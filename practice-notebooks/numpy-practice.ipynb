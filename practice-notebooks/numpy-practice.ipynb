{
 "cells": [
  {
   "cell_type": "markdown",
   "id": "8cf9f028",
   "metadata": {},
   "source": [
    "# Numpy Practice\n",
    "\n",
    "This section will go over exercises using numpy."
   ]
  },
  {
   "cell_type": "markdown",
   "id": "e43267ce",
   "metadata": {},
   "source": [
    "## Array Creation Basics"
   ]
  },
  {
   "cell_type": "markdown",
   "id": "fb881c18",
   "metadata": {},
   "source": [
    "### Exercise 0: help() Function"
   ]
  },
  {
   "cell_type": "code",
   "execution_count": 1,
   "id": "094d29ed",
   "metadata": {},
   "outputs": [
    {
     "name": "stdout",
     "output_type": "stream",
     "text": [
      "Help on built-in function array in module numpy:\n",
      "\n",
      "array(...)\n",
      "    array(object, dtype=None, *, copy=True, order='K', subok=False, ndmin=0,\n",
      "          like=None)\n",
      "    \n",
      "    Create an array.\n",
      "    \n",
      "    Parameters\n",
      "    ----------\n",
      "    object : array_like\n",
      "        An array, any object exposing the array interface, an object whose\n",
      "        __array__ method returns an array, or any (nested) sequence.\n",
      "    dtype : data-type, optional\n",
      "        The desired data-type for the array.  If not given, then the type will\n",
      "        be determined as the minimum type required to hold the objects in the\n",
      "        sequence.\n",
      "    copy : bool, optional\n",
      "        If true (default), then the object is copied.  Otherwise, a copy will\n",
      "        only be made if __array__ returns a copy, if obj is a nested sequence,\n",
      "        or if a copy is needed to satisfy any of the other requirements\n",
      "        (`dtype`, `order`, etc.).\n",
      "    order : {'K', 'A', 'C', 'F'}, optional\n",
      "        Specify the memory layout of the array. If object is not an array, the\n",
      "        newly created array will be in C order (row major) unless 'F' is\n",
      "        specified, in which case it will be in Fortran order (column major).\n",
      "        If object is an array the following holds.\n",
      "    \n",
      "        ===== ========= ===================================================\n",
      "        order  no copy                     copy=True\n",
      "        ===== ========= ===================================================\n",
      "        'K'   unchanged F & C order preserved, otherwise most similar order\n",
      "        'A'   unchanged F order if input is F and not C, otherwise C order\n",
      "        'C'   C order   C order\n",
      "        'F'   F order   F order\n",
      "        ===== ========= ===================================================\n",
      "    \n",
      "        When ``copy=False`` and a copy is made for other reasons, the result is\n",
      "        the same as if ``copy=True``, with some exceptions for 'A', see the\n",
      "        Notes section. The default order is 'K'.\n",
      "    subok : bool, optional\n",
      "        If True, then sub-classes will be passed-through, otherwise\n",
      "        the returned array will be forced to be a base-class array (default).\n",
      "    ndmin : int, optional\n",
      "        Specifies the minimum number of dimensions that the resulting\n",
      "        array should have.  Ones will be pre-pended to the shape as\n",
      "        needed to meet this requirement.\n",
      "    like : array_like\n",
      "        Reference object to allow the creation of arrays which are not\n",
      "        NumPy arrays. If an array-like passed in as ``like`` supports\n",
      "        the ``__array_function__`` protocol, the result will be defined\n",
      "        by it. In this case, it ensures the creation of an array object\n",
      "        compatible with that passed in via this argument.\n",
      "    \n",
      "        .. versionadded:: 1.20.0\n",
      "    \n",
      "    Returns\n",
      "    -------\n",
      "    out : ndarray\n",
      "        An array object satisfying the specified requirements.\n",
      "    \n",
      "    See Also\n",
      "    --------\n",
      "    empty_like : Return an empty array with shape and type of input.\n",
      "    ones_like : Return an array of ones with shape and type of input.\n",
      "    zeros_like : Return an array of zeros with shape and type of input.\n",
      "    full_like : Return a new array with shape of input filled with value.\n",
      "    empty : Return a new uninitialized array.\n",
      "    ones : Return a new array setting values to one.\n",
      "    zeros : Return a new array setting values to zero.\n",
      "    full : Return a new array of given shape filled with value.\n",
      "    \n",
      "    \n",
      "    Notes\n",
      "    -----\n",
      "    When order is 'A' and `object` is an array in neither 'C' nor 'F' order,\n",
      "    and a copy is forced by a change in dtype, then the order of the result is\n",
      "    not necessarily 'C' as expected. This is likely a bug.\n",
      "    \n",
      "    Examples\n",
      "    --------\n",
      "    >>> np.array([1, 2, 3])\n",
      "    array([1, 2, 3])\n",
      "    \n",
      "    Upcasting:\n",
      "    \n",
      "    >>> np.array([1, 2, 3.0])\n",
      "    array([ 1.,  2.,  3.])\n",
      "    \n",
      "    More than one dimension:\n",
      "    \n",
      "    >>> np.array([[1, 2], [3, 4]])\n",
      "    array([[1, 2],\n",
      "           [3, 4]])\n",
      "    \n",
      "    Minimum dimensions 2:\n",
      "    \n",
      "    >>> np.array([1, 2, 3], ndmin=2)\n",
      "    array([[1, 2, 3]])\n",
      "    \n",
      "    Type provided:\n",
      "    \n",
      "    >>> np.array([1, 2, 3], dtype=complex)\n",
      "    array([ 1.+0.j,  2.+0.j,  3.+0.j])\n",
      "    \n",
      "    Data-type consisting of more than one element:\n",
      "    \n",
      "    >>> x = np.array([(1,2),(3,4)],dtype=[('a','<i4'),('b','<i4')])\n",
      "    >>> x['a']\n",
      "    array([1, 3])\n",
      "    \n",
      "    Creating an array from sub-classes:\n",
      "    \n",
      "    >>> np.array(np.mat('1 2; 3 4'))\n",
      "    array([[1, 2],\n",
      "           [3, 4]])\n",
      "    \n",
      "    >>> np.array(np.mat('1 2; 3 4'), subok=True)\n",
      "    matrix([[1, 2],\n",
      "            [3, 4]])\n",
      "\n"
     ]
    }
   ],
   "source": [
    "import numpy as np\n",
    "\n",
    "# For documentation on each function, use:\n",
    "# help(np.functionName)\n",
    "\n",
    "help(np.array)\n",
    "\n",
    "# other functions include: arange, linspace, logspace, mat, diag, etc.\n",
    "# These functions are called 'routines'."
   ]
  },
  {
   "cell_type": "markdown",
   "id": "e5c6385c",
   "metadata": {},
   "source": [
    "### Exercise 1: Create an Array (using arange and a list)"
   ]
  },
  {
   "cell_type": "code",
   "execution_count": 2,
   "id": "40ee7909",
   "metadata": {},
   "outputs": [
    {
     "name": "stdout",
     "output_type": "stream",
     "text": [
      "a:\n",
      " [0 1 2 3 4 5 6 7 8 9] \n",
      "\n",
      "b:\n",
      " [[ 7  8  9]\n",
      " [10 11 12]] \n",
      "\n",
      "c:\n",
      " [3.5 4.  4.5 5.  5.5]\n"
     ]
    }
   ],
   "source": [
    "a = np.arange(10)\n",
    "b = np.array([[7,8,9], [10,11,12]])\n",
    "c = np.arange(3.5,6.0, .5)\n",
    "\n",
    "print('a:\\n', a, '\\n')\n",
    "print('b:\\n', b, '\\n')\n",
    "print('c:\\n', c)\n",
    "\n",
    "# for documentation on each function, use:\n",
    "# help(np.functionName)"
   ]
  },
  {
   "cell_type": "markdown",
   "id": "ca1c55ac",
   "metadata": {},
   "source": [
    "Using *arange* similar to using *range*.\n",
    "\n",
    "You can also add create an array using a list."
   ]
  },
  {
   "cell_type": "markdown",
   "id": "21fe0f2a",
   "metadata": {},
   "source": [
    "### Exercise 2: Reshaping Arrays"
   ]
  },
  {
   "cell_type": "markdown",
   "id": "df69a5f5",
   "metadata": {},
   "source": [
    "Can *reshape* an object by specifying (numColumns, numRows) in the command.\n",
    "\n"
   ]
  },
  {
   "cell_type": "code",
   "execution_count": 3,
   "id": "fcf5b958",
   "metadata": {},
   "outputs": [
    {
     "name": "stdout",
     "output_type": "stream",
     "text": [
      "a: \n",
      " [[0 1 2 3 4]\n",
      " [5 6 7 8 9]] \n",
      "\n",
      "b: \n",
      " [[ 7  8]\n",
      " [ 9 10]\n",
      " [11 12]]\n"
     ]
    }
   ],
   "source": [
    "a = a.reshape(2, 5)\n",
    "b = b.reshape(3,2)\n",
    "\n",
    "print('a: \\n', a, '\\n')\n",
    "print('b: \\n', b)"
   ]
  },
  {
   "cell_type": "markdown",
   "id": "78d96e2f",
   "metadata": {},
   "source": [
    "Object a has been changed into a 5x2 matrix, and b into a 2x3 matrix.\n"
   ]
  },
  {
   "cell_type": "code",
   "execution_count": 4,
   "id": "eedd03f5",
   "metadata": {},
   "outputs": [
    {
     "name": "stdout",
     "output_type": "stream",
     "text": [
      "[[0 1]\n",
      " [2 3]\n",
      " [4 5]\n",
      " [6 7]\n",
      " [8 9]]\n"
     ]
    }
   ],
   "source": [
    "a = a.reshape(5,2)\n",
    "print(a)"
   ]
  },
  {
   "cell_type": "markdown",
   "id": "523fd21f",
   "metadata": {},
   "source": [
    "Now a is a 2x5 matrix.\n"
   ]
  },
  {
   "cell_type": "markdown",
   "id": "c8ecb11b",
   "metadata": {},
   "source": [
    "### Exercise 3: Dimensions, Shape, and Type, Size"
   ]
  },
  {
   "cell_type": "code",
   "execution_count": 5,
   "id": "4eb1002a",
   "metadata": {},
   "outputs": [
    {
     "name": "stdout",
     "output_type": "stream",
     "text": [
      "Information on a:\n",
      "\n",
      "Num. Dimensions: 2\n",
      "Shape: (5, 2)\n",
      "Type: <class 'numpy.ndarray'>\n",
      "Contents Type: int64\n",
      "Size of a: 10\n"
     ]
    }
   ],
   "source": [
    "print('Information on a:\\n')\n",
    "\n",
    "print('Num. Dimensions:', a.ndim)\n",
    "print('Shape:', a.shape)\n",
    "print('Type:', type(a))\n",
    "print('Contents Type:', a.dtype)\n",
    "print('Size of a:', a.size)\n"
   ]
  },
  {
   "cell_type": "markdown",
   "id": "7ebe68fe",
   "metadata": {},
   "source": [
    "### Exercise 4: Bytes"
   ]
  },
  {
   "cell_type": "code",
   "execution_count": 6,
   "id": "14e70a4f",
   "metadata": {},
   "outputs": [
    {
     "name": "stdout",
     "output_type": "stream",
     "text": [
      "Bytes per Elements: 8\n",
      "Bytes of Entire Array: 80\n"
     ]
    }
   ],
   "source": [
    "print('Bytes per Elements:', a.itemsize)\n",
    "print('Bytes of Entire Array:', a.nbytes)"
   ]
  },
  {
   "cell_type": "markdown",
   "id": "91c74a47",
   "metadata": {},
   "source": [
    "### Exercise 5: Array of Booleans"
   ]
  },
  {
   "cell_type": "code",
   "execution_count": 7,
   "id": "11be4701",
   "metadata": {},
   "outputs": [
    {
     "name": "stdout",
     "output_type": "stream",
     "text": [
      "Type: bool\n"
     ]
    }
   ],
   "source": [
    "c = np.array([False, False, True, True], dtype=bool)\n",
    "print('Type:', c.dtype)"
   ]
  },
  {
   "cell_type": "raw",
   "id": "e7361cb0",
   "metadata": {},
   "source": [
    "Can set the type of the data by using *dtype=type* at the end."
   ]
  },
  {
   "cell_type": "markdown",
   "id": "ec4ca3d2",
   "metadata": {},
   "source": [
    "### Exercise 6: Array Using linspace()"
   ]
  },
  {
   "cell_type": "code",
   "execution_count": 8,
   "id": "68c345bc",
   "metadata": {},
   "outputs": [
    {
     "data": {
      "text/plain": [
       "array([1. , 1.4, 1.8, 2.2, 2.6, 3. ])"
      ]
     },
     "execution_count": 8,
     "metadata": {},
     "output_type": "execute_result"
    }
   ],
   "source": [
    "# creates an evenly spaced array of a given number of items.\n",
    "# linspace(start, stop, numberOfItems) where start and stop are inclusive.\n",
    "np.linspace(1,3,num=6)"
   ]
  },
  {
   "cell_type": "code",
   "execution_count": 9,
   "id": "41c0170a",
   "metadata": {},
   "outputs": [
    {
     "data": {
      "text/plain": [
       "array([1.        , 1.33333333, 1.66666667, 2.        , 2.33333333,\n",
       "       2.66666667])"
      ]
     },
     "execution_count": 9,
     "metadata": {},
     "output_type": "execute_result"
    }
   ],
   "source": [
    "# endpoint=False -> excludes the upper bound from the calculation.\n",
    "np.linspace(1,3,num=6, endpoint=False)"
   ]
  },
  {
   "cell_type": "code",
   "execution_count": 10,
   "id": "56cce445",
   "metadata": {},
   "outputs": [
    {
     "data": {
      "text/plain": [
       "(array([1. , 1.4, 1.8, 2.2, 2.6, 3. ]), 0.4)"
      ]
     },
     "execution_count": 10,
     "metadata": {},
     "output_type": "execute_result"
    }
   ],
   "source": [
    "# retstep=True -> returns the step value as well as the array in a list.\n",
    "np.linspace(1,3,num=6,retstep=True)"
   ]
  },
  {
   "cell_type": "markdown",
   "id": "535e5afe",
   "metadata": {},
   "source": [
    "## Array Operations"
   ]
  },
  {
   "cell_type": "markdown",
   "id": "5e3dc55d",
   "metadata": {},
   "source": [
    "### Exercise 1: Addition"
   ]
  },
  {
   "cell_type": "code",
   "execution_count": 11,
   "id": "541ae669",
   "metadata": {},
   "outputs": [
    {
     "name": "stdout",
     "output_type": "stream",
     "text": [
      "[1 2 3 4 5]\n",
      "[0.1 0.2 0.3 0.4 0.5]\n"
     ]
    }
   ],
   "source": [
    "a = np.arange(1,6)\n",
    "b = np.linspace(0.1,0.5, num=5)\n",
    "\n",
    "print(a)\n",
    "print(b)"
   ]
  },
  {
   "cell_type": "code",
   "execution_count": 12,
   "id": "cfa09191",
   "metadata": {},
   "outputs": [
    {
     "name": "stdout",
     "output_type": "stream",
     "text": [
      "[2 3 4 5 6]\n"
     ]
    }
   ],
   "source": [
    "# Scalar Addition\n",
    "print(a+1)"
   ]
  },
  {
   "cell_type": "code",
   "execution_count": 13,
   "id": "238447e1",
   "metadata": {},
   "outputs": [
    {
     "name": "stdout",
     "output_type": "stream",
     "text": [
      "[1.1 2.2 3.3 4.4 5.5]\n"
     ]
    }
   ],
   "source": [
    "# Vector Addition\n",
    "print(a+b)"
   ]
  },
  {
   "cell_type": "markdown",
   "id": "a03ccb06",
   "metadata": {},
   "source": [
    "### Exercise 2: Multiplication"
   ]
  },
  {
   "cell_type": "code",
   "execution_count": 14,
   "id": "caf1ce5f",
   "metadata": {},
   "outputs": [
    {
     "name": "stdout",
     "output_type": "stream",
     "text": [
      "[ 2  4  6  8 10] \n",
      "\n",
      "[ 1  4  9 16 25]\n"
     ]
    }
   ],
   "source": [
    "# Scalar Multiplication\n",
    "c = 2 * a\n",
    "print(c, '\\n')\n",
    "\n",
    "# Scalar Power\n",
    "c = a ** 2\n",
    "print(c)"
   ]
  },
  {
   "cell_type": "code",
   "execution_count": 15,
   "id": "05829d76",
   "metadata": {},
   "outputs": [
    {
     "name": "stdout",
     "output_type": "stream",
     "text": [
      "[0.1 0.4 0.9 1.6 2.5] \n",
      "\n",
      "[1.         1.14869835 1.39038917 1.74110113 2.23606798]\n"
     ]
    }
   ],
   "source": [
    "# Vector Multiplication\n",
    "c = a * b\n",
    "print(c, '\\n')\n",
    "\n",
    "# Vector Power\n",
    "c = a ** b\n",
    "print(c)"
   ]
  },
  {
   "cell_type": "code",
   "execution_count": 16,
   "id": "675be60a",
   "metadata": {},
   "outputs": [
    {
     "name": "stdout",
     "output_type": "stream",
     "text": [
      "[[ 1  4  9]\n",
      " [ 4 10 18]\n",
      " [ 7 16 27]]\n"
     ]
    }
   ],
   "source": [
    "# Matrix Multiplication\n",
    "a = np.arange(1,10)\n",
    "a = a.reshape(3,3)\n",
    "\n",
    "b = np.array([1,2,3])\n",
    "\n",
    "c = a * b\n",
    "print(c)"
   ]
  },
  {
   "cell_type": "markdown",
   "id": "9bd6a976",
   "metadata": {},
   "source": [
    "### Exercise 3: Math Functions"
   ]
  },
  {
   "cell_type": "code",
   "execution_count": 17,
   "id": "7b3f64da",
   "metadata": {},
   "outputs": [
    {
     "name": "stdout",
     "output_type": "stream",
     "text": [
      "[ 1.000000e+00  6.123234e-17 -5.000000e-01 -1.000000e+00]\n",
      "[0.00000000e+00 1.00000000e+00 8.66025404e-01 1.22464680e-16]\n"
     ]
    },
    {
     "data": {
      "text/plain": [
       "2.718281828459045"
      ]
     },
     "execution_count": 17,
     "metadata": {},
     "output_type": "execute_result"
    }
   ],
   "source": [
    "# numpy defines PI and e, no need to import math here.\n",
    "a = np.array([0, np.pi/2, 2*np.pi/3, np.pi])\n",
    "\n",
    "b = np.cos(a)\n",
    "c = np.sin(a)\n",
    "\n",
    "print(b)\n",
    "print(c)\n",
    "\n",
    "np.e"
   ]
  },
  {
   "cell_type": "markdown",
   "id": "8301d98f",
   "metadata": {},
   "source": [
    "### Exercise 4: In-place Operations"
   ]
  },
  {
   "cell_type": "markdown",
   "id": "0131bd33",
   "metadata": {},
   "source": [
    "It is possible to use the +=, -=, *=, /= operators on numpy arrays."
   ]
  },
  {
   "cell_type": "code",
   "execution_count": 18,
   "id": "c667be87",
   "metadata": {},
   "outputs": [
    {
     "name": "stdout",
     "output_type": "stream",
     "text": [
      "Addition: [3 4 5 6 7]\n",
      "Subtraction: [1 2 3 4 5]\n",
      "Multiplication: [ 2  4  6  8 10]\n",
      "Integer Division: [1 2 3 4 5]\n",
      "Float Division: [0.e+000 5.e-324 1.e-323 1.e-323 1.e-323]\n"
     ]
    }
   ],
   "source": [
    "a = np.arange(1,6)\n",
    "\n",
    "a += 2\n",
    "print('Addition:', a)\n",
    "a -= 2\n",
    "print('Subtraction:', a)\n",
    "a *= 2\n",
    "print('Multiplication:', a)\n",
    "\n",
    "a //= 2\n",
    "print('Integer Division:', a)\n",
    "\n",
    "a.dtype = float\n",
    "a /= 2\n",
    "print('Float Division:', a)"
   ]
  },
  {
   "cell_type": "markdown",
   "id": "a1d95d23",
   "metadata": {},
   "source": [
    "**It is also possible to use in-place operators inside functions:**"
   ]
  },
  {
   "cell_type": "code",
   "execution_count": 19,
   "id": "bbae25f1",
   "metadata": {},
   "outputs": [
    {
     "name": "stdout",
     "output_type": "stream",
     "text": [
      "[ 6  7  8  9 10]\n"
     ]
    }
   ],
   "source": [
    "def add_5(array):\n",
    "    array += 5\n",
    "    return array\n",
    "\n",
    "a = add_5(np.arange(1,6))\n",
    "print(a)"
   ]
  },
  {
   "cell_type": "markdown",
   "id": "e77c0af7",
   "metadata": {},
   "source": [
    "## Set and Fill Array Elements"
   ]
  },
  {
   "cell_type": "markdown",
   "id": "f405c4ba",
   "metadata": {},
   "source": [
    "### Setting Values"
   ]
  },
  {
   "cell_type": "code",
   "execution_count": 20,
   "id": "a86c7843",
   "metadata": {},
   "outputs": [
    {
     "name": "stdout",
     "output_type": "stream",
     "text": [
      "[0.         1.33333333 1.66666667 2.35      ]\n"
     ]
    }
   ],
   "source": [
    "a = np.linspace(1,2, num=4)\n",
    "\n",
    "a[0] = 0\n",
    "a[3] = 2.35\n",
    "\n",
    "print(a)"
   ]
  },
  {
   "cell_type": "markdown",
   "id": "f06206c9",
   "metadata": {},
   "source": [
    "### Filling"
   ]
  },
  {
   "cell_type": "markdown",
   "id": "bb6b261a",
   "metadata": {},
   "source": [
    "### Exercise 1: Scalar Fill"
   ]
  },
  {
   "cell_type": "code",
   "execution_count": 21,
   "id": "1aaec24d",
   "metadata": {},
   "outputs": [
    {
     "name": "stdout",
     "output_type": "stream",
     "text": [
      "[[0. 0. 0.]\n",
      " [0. 0. 0.]\n",
      " [0. 0. 0.]] \n",
      "\n",
      "[0.1234 0.1234 0.1234]\n"
     ]
    }
   ],
   "source": [
    "# Fill with any scalar value\n",
    "a = np.empty([3,3])\n",
    "a.fill(0)\n",
    "\n",
    "b = np.empty(3)\n",
    "b.fill(0.1234)\n",
    "\n",
    "print(a, '\\n')\n",
    "print(b)"
   ]
  },
  {
   "cell_type": "markdown",
   "id": "f3c1c0dd",
   "metadata": {},
   "source": [
    "#### Exercise 2: Other Fills"
   ]
  },
  {
   "cell_type": "code",
   "execution_count": 22,
   "id": "230e4a20",
   "metadata": {},
   "outputs": [
    {
     "name": "stdout",
     "output_type": "stream",
     "text": [
      "[0. 0. 0.]\n",
      "\n",
      "[[1. 1.]\n",
      " [1. 1.]\n",
      " [1. 1.]\n",
      " [1. 1.]]\n",
      "\n",
      "[[1. 0. 0. 0. 0.]\n",
      " [0. 1. 0. 0. 0.]\n",
      " [0. 0. 1. 0. 0.]\n",
      " [0. 0. 0. 1. 0.]\n",
      " [0. 0. 0. 0. 1.]]\n",
      "\n",
      "[[[0. 0. 0.]\n",
      "  [0. 0. 0.]]\n",
      "\n",
      " [[0. 0. 0.]\n",
      "  [0. 0. 0.]]\n",
      "\n",
      " [[0. 0. 0.]\n",
      "  [0. 0. 0.]]]\n"
     ]
    }
   ],
   "source": [
    "# Fill with Zeros\n",
    "a = np.zeros(3)\n",
    "\n",
    "# Fill with Ones\n",
    "b = np.ones([4,2]) # use a tuple for nxn or nxm dimensions\n",
    "\n",
    "# Identity Matrix\n",
    "c = np.identity(5)\n",
    "\n",
    "print(a, b, c, sep='\\n\\n', end='\\n\\n')\n",
    "\n",
    "# Multi-Dimensional\n",
    "a = np.zeros([3,2,3]) # create an array of three 2x3 arrays filled with zeros.\n",
    "print(a)"
   ]
  },
  {
   "cell_type": "markdown",
   "id": "40ec83b9",
   "metadata": {},
   "source": [
    "## Slicing and Indexing"
   ]
  },
  {
   "cell_type": "markdown",
   "id": "a90dd9d6",
   "metadata": {},
   "source": [
    "### Exercise 1: Slicing"
   ]
  },
  {
   "cell_type": "code",
   "execution_count": 23,
   "id": "6bf9a4cb",
   "metadata": {},
   "outputs": [
    {
     "name": "stdout",
     "output_type": "stream",
     "text": [
      "[8. 8. 2. 2.] \n",
      "\n",
      "[ 8. 11. 12. 13.]\n"
     ]
    }
   ],
   "source": [
    "# array[lower:upper:steps], steps optional, inclusive of lower bound only.\n",
    "\n",
    "a = np.empty(4)\n",
    "a.fill(2)\n",
    "\n",
    "# fill by slicing\n",
    "a[0:2] = 8\n",
    "print(a, '\\n')\n",
    "\n",
    "# assigning values by slicing\n",
    "a[1:4] = 11, 12, 13\n",
    "print(a)"
   ]
  },
  {
   "cell_type": "markdown",
   "id": "ac00cdea",
   "metadata": {},
   "source": [
    "### Exercise 2: Slicing with Steps"
   ]
  },
  {
   "cell_type": "code",
   "execution_count": 24,
   "id": "68b461cc",
   "metadata": {},
   "outputs": [
    {
     "name": "stdout",
     "output_type": "stream",
     "text": [
      "[ 8.  5. 12.  5.] \n",
      "\n",
      "[ 8.  6. 12.  3.]\n"
     ]
    }
   ],
   "source": [
    "#fill with steps and slicing\n",
    "a[1:4:2] = 5\n",
    "print(a, '\\n')\n",
    "\n",
    "\n",
    "# slicing with steps and alternating values\n",
    "a[1:4:2] = 6, 3\n",
    "print(a)"
   ]
  },
  {
   "cell_type": "markdown",
   "id": "e04bb7ec",
   "metadata": {},
   "source": [
    "### Exercise 3: Negative Indices"
   ]
  },
  {
   "cell_type": "code",
   "execution_count": 25,
   "id": "5d7fba4e",
   "metadata": {},
   "outputs": [
    {
     "name": "stdout",
     "output_type": "stream",
     "text": [
      "[ 6. 12.]\n"
     ]
    }
   ],
   "source": [
    "# negative values\n",
    "# -1 is the last value in the array, counts down to the left\n",
    "# upper bound (-1) is not inclusive.\n",
    "\n",
    "print(a[-3:-1])\n"
   ]
  },
  {
   "cell_type": "markdown",
   "id": "f7c2e446",
   "metadata": {},
   "source": [
    "### Exercise 4: Omitting Indices"
   ]
  },
  {
   "cell_type": "code",
   "execution_count": 26,
   "id": "cdeb78d0",
   "metadata": {},
   "outputs": [
    {
     "name": "stdout",
     "output_type": "stream",
     "text": [
      "[8. 6.]\n",
      "[12.  3.]\n",
      "[12.  3.]\n",
      "[ 1.  1. 12.  3.]\n"
     ]
    }
   ],
   "source": [
    "# print from beginning up to and excluding the 2nd index.\n",
    "print(a[:2])\n",
    "\n",
    "# print from 2nd index to the end, excluding last value.\n",
    "print(a[2:])\n",
    "\n",
    "# print from -2 to 0, excluding 0.\n",
    "print(a[-2:])\n",
    "\n",
    "# fill by omitting indices\n",
    "a[:2] = 1\n",
    "print(a)"
   ]
  },
  {
   "cell_type": "markdown",
   "id": "ec2c39ec",
   "metadata": {},
   "source": [
    "### Exercise 5: Slices as References"
   ]
  },
  {
   "cell_type": "code",
   "execution_count": 27,
   "id": "fc115e0c",
   "metadata": {},
   "outputs": [
    {
     "name": "stdout",
     "output_type": "stream",
     "text": [
      "[0 1 2 3 4 5]\n",
      "\n",
      "[2 3 4]\n",
      "\n",
      "\n",
      "\n",
      "[ 0  1 16  3  4  5]\n",
      "\n",
      "[16  3  4]\n"
     ]
    }
   ],
   "source": [
    "# can assign a slice of an array to another variable\n",
    "a = np.arange(0,6)\n",
    "b = a[2:5]\n",
    "print(a,b,sep='\\n\\n')\n",
    "print('\\n\\n')\n",
    "\n",
    "# if any component of a sliced variable changes, the parent changes too\n",
    "b[0] = 16\n",
    "print(a,b,sep='\\n\\n')\n",
    "\n",
    "# can be done with multi-dimensional arrays as well."
   ]
  },
  {
   "cell_type": "markdown",
   "id": "830d6a56",
   "metadata": {},
   "source": [
    "### Exercise 6: 2-D Indexing"
   ]
  },
  {
   "cell_type": "code",
   "execution_count": 28,
   "id": "921fe584",
   "metadata": {},
   "outputs": [
    {
     "name": "stdout",
     "output_type": "stream",
     "text": [
      "[[ 0.  0. 23.]\n",
      " [ 0.  5.  0.]] \n",
      "\n",
      "\n",
      "[[ 0.  0. 23.]\n",
      " [18. 18. 18.]]\n"
     ]
    }
   ],
   "source": [
    "b = np.zeros(6)\n",
    "b = b.reshape(2,3)\n",
    "\n",
    "# addressing a single value in a 2-D array\n",
    "b[0,2] = 23\n",
    "b[1,1] = 5\n",
    "print(b,'\\n\\n')\n",
    "\n",
    "# addressing a row using a single index\n",
    "b[1] = 18\n",
    "print(b)\n"
   ]
  },
  {
   "cell_type": "markdown",
   "id": "2040f5fb",
   "metadata": {},
   "source": [
    "### Exercise 7: Multidimensional Slicing"
   ]
  },
  {
   "cell_type": "code",
   "execution_count": 29,
   "id": "821b39de",
   "metadata": {},
   "outputs": [
    {
     "name": "stdout",
     "output_type": "stream",
     "text": [
      "[[ 1  2  3  4]\n",
      " [11 12 13 14]\n",
      " [21 22 23 24]\n",
      " [31 32 33 34]]\n",
      "\n",
      "(4, 4)\n",
      "\n",
      "[ 1 11 21 31]\n",
      "\n",
      "[[21 23]]\n"
     ]
    }
   ],
   "source": [
    "# create an array from mulitple arrays\n",
    "a = np.array([np.arange(1,5), np.arange(11,15), np.arange(21,25), np.arange(31,35)])\n",
    "print(a)\n",
    "print()\n",
    "print(a.shape)\n",
    "print()\n",
    "\n",
    "# addressing a column\n",
    "print(a[:,0]) # printed out the column as a list\n",
    "print()\n",
    "\n",
    "# addressing with steps\n",
    "# Notation: a[lower:upper:steps]\n",
    "print(a[2::2, ::2]) \n",
    "\n",
    "# Side Note:\n",
    "# a[2:] returns row 2 to end as an array\n",
    "# a[2::2] = returns row 2 to end in steps of 2\n",
    "# a[2::2, ::2] returns the values 2 to end in steps of 2 of rows 2 to end in steps of 2"
   ]
  },
  {
   "cell_type": "markdown",
   "id": "56d866fc",
   "metadata": {},
   "source": [
    "## Advanced Indexing"
   ]
  },
  {
   "cell_type": "markdown",
   "id": "979b34e3",
   "metadata": {},
   "source": [
    "### Exercise 1: Use Another Array for Index Addressing"
   ]
  },
  {
   "cell_type": "code",
   "execution_count": 30,
   "id": "4b927e73",
   "metadata": {},
   "outputs": [
    {
     "name": "stdout",
     "output_type": "stream",
     "text": [
      "[10 13 16 19 22 25 28]\n"
     ]
    },
    {
     "data": {
      "text/plain": [
       "array([13, 19, 28])"
      ]
     },
     "execution_count": 30,
     "metadata": {},
     "output_type": "execute_result"
    }
   ],
   "source": [
    "a = np.arange(10,30,3)\n",
    "print(a)\n",
    "\n",
    "indexes = np.array([1,3,-1]) # type indices of the values we want to assign to x\n",
    "\n",
    "x = a[indexes] # x is composed of the specific indices of a we assigned to indexes array.\n",
    "x "
   ]
  },
  {
   "cell_type": "markdown",
   "id": "6b58be7d",
   "metadata": {},
   "source": [
    "### Exercise 2: Index with Booleans"
   ]
  },
  {
   "cell_type": "code",
   "execution_count": 31,
   "id": "a2089387",
   "metadata": {},
   "outputs": [
    {
     "name": "stdout",
     "output_type": "stream",
     "text": [
      "[ 0  5 10 15 20 25 30]\n",
      "\n",
      "[ True False  True False False False  True]\n",
      "\n",
      "[ 0 10 30]\n"
     ]
    }
   ],
   "source": [
    "a = np.arange(0,35,5)\n",
    "print(a)\n",
    "print()\n",
    "\n",
    "mask = np.array([1,0,1,0,0,0,1], dtype='bool') # only three 'True' values.\n",
    "print(mask)\n",
    "print()\n",
    "\n",
    "b = a[mask] # returns all the values of a that are 'True' in mask.\n",
    "print(b)"
   ]
  },
  {
   "cell_type": "markdown",
   "id": "3f716c7d",
   "metadata": {},
   "source": [
    "### Exercise 3: Use Conditionals to Mask Elements in Array"
   ]
  },
  {
   "cell_type": "code",
   "execution_count": 32,
   "id": "5a643179",
   "metadata": {},
   "outputs": [
    {
     "name": "stdout",
     "output_type": "stream",
     "text": [
      "[ True  True False False False False False]\n",
      "\n",
      "[False False False False False  True  True]\n",
      "\n",
      "[[ 0  5 25 30]]\n"
     ]
    }
   ],
   "source": [
    "# returns an array of booleans that correspond to whether that value of a meets the condition.\n",
    "mask2 = a < 10\n",
    "print(mask2)\n",
    "print()\n",
    "\n",
    "mask3 = a > 20\n",
    "print(mask3)\n",
    "print()\n",
    "\n",
    "# return an array of all the values of a that are 'True' from the masks\n",
    "b = np.array([a[mask2], a[mask3]])\n",
    "print(b.reshape(1,4))"
   ]
  },
  {
   "cell_type": "markdown",
   "id": "c4618898",
   "metadata": {},
   "source": [
    "## Reshaping Arrays"
   ]
  },
  {
   "cell_type": "markdown",
   "id": "19386198",
   "metadata": {},
   "source": [
    "### Exercise 1: Shaping"
   ]
  },
  {
   "cell_type": "code",
   "execution_count": 33,
   "id": "091352bb",
   "metadata": {},
   "outputs": [
    {
     "name": "stdout",
     "output_type": "stream",
     "text": [
      "[10 11 12 13 14 15 16 17 18 19 20 21 22 23 24 25 26 27 28 29] \n",
      "\n",
      "\n",
      "(20,) \n",
      "\n",
      "\n",
      "[[[10 11]\n",
      "  [12 13]]\n",
      "\n",
      " [[14 15]\n",
      "  [16 17]]\n",
      "\n",
      " [[18 19]\n",
      "  [20 21]]\n",
      "\n",
      " [[22 23]\n",
      "  [24 25]]\n",
      "\n",
      " [[26 27]\n",
      "  [28 29]]]\n"
     ]
    }
   ],
   "source": [
    "# Notation: shape(numRows, numColumns)\n",
    "\n",
    "b = np.arange(10,30)\n",
    "print(b, '\\n\\n')\n",
    "\n",
    "print(b.shape, '\\n\\n')\n",
    "\n",
    "# will change the shape of the original array\n",
    "b.shape = (5,2,2)\n",
    "print(b)"
   ]
  },
  {
   "cell_type": "markdown",
   "id": "f7f35552",
   "metadata": {},
   "source": [
    "### Exercise 2: Reshaping"
   ]
  },
  {
   "cell_type": "code",
   "execution_count": 34,
   "id": "5310d066",
   "metadata": {},
   "outputs": [
    {
     "name": "stdout",
     "output_type": "stream",
     "text": [
      "[ 1  2  3  4  5  6  7  8  9 10]\n",
      "(10,)\n",
      "\n",
      "[[ 1  2  3  4  5]\n",
      " [ 6  7  8  9 10]]\n",
      "(2, 5)\n",
      "\n"
     ]
    }
   ],
   "source": [
    "# reshaping returns a copy of the original array in the given shape\n",
    "a = np.arange(1,11)\n",
    "print(a, a.shape, sep='\\n', end ='\\n\\n')\n",
    "\n",
    "b = a.reshape(2,5)\n",
    "print(b, b.shape, sep='\\n', end='\\n\\n')\n",
    "\n",
    "# Shape and Reshape do not delete elements. Therefore, assigned dimensions MUST match/be possible."
   ]
  },
  {
   "cell_type": "markdown",
   "id": "063fda18",
   "metadata": {},
   "source": [
    "## Flatten Arrays "
   ]
  },
  {
   "cell_type": "markdown",
   "id": "390ac829",
   "metadata": {},
   "source": [
    "### Exercise 1: Flatten"
   ]
  },
  {
   "cell_type": "code",
   "execution_count": 35,
   "id": "2b040a82",
   "metadata": {},
   "outputs": [
    {
     "name": "stdout",
     "output_type": "stream",
     "text": [
      "[[1 2 3]\n",
      " [4 5 6]\n",
      " [7 8 9]] \n",
      "\n",
      "\n",
      "[1 2 3 4 5 6 7 8 9]\n"
     ]
    }
   ],
   "source": [
    "# use flatten to make arrays one-dimensional\n",
    "a = np.arange(1,10)\n",
    "a.shape = (3,3)\n",
    "\n",
    "print(a, '\\n\\n')\n",
    "\n",
    "b = a.flatten()\n",
    "print(b)"
   ]
  },
  {
   "cell_type": "markdown",
   "id": "6c950e8c",
   "metadata": {},
   "source": [
    "### Exercise 2: Flat Attribute"
   ]
  },
  {
   "cell_type": "code",
   "execution_count": 36,
   "id": "90237b0b",
   "metadata": {},
   "outputs": [
    {
     "name": "stdout",
     "output_type": "stream",
     "text": [
      "[[1 2 3]\n",
      " [4 5 6]\n",
      " [7 8 9]] \n",
      "\n",
      "\n",
      "<numpy.flatiter object at 0x7fb6a4240800> \n",
      "\n",
      "\n",
      "[[ 1 26  3]\n",
      " [ 4  5  0]\n",
      " [ 0  0  9]]\n"
     ]
    }
   ],
   "source": [
    "# flat as an attribute can be assigned to a variable to traverse an array as if it were one-dimensional.\n",
    "\n",
    "print(a, '\\n\\n')\n",
    "\n",
    "c = a.flat\n",
    "print(c, '\\n\\n')\n",
    "\n",
    "c[1] = 26\n",
    "c[5:8] = 0\n",
    "\n",
    "print(a)"
   ]
  },
  {
   "cell_type": "markdown",
   "id": "d8a3e2a4",
   "metadata": {},
   "source": [
    "## Where Method"
   ]
  },
  {
   "cell_type": "markdown",
   "id": "7b0d8ffd",
   "metadata": {},
   "source": [
    "### Exercise 1: Using Where to Find Indices"
   ]
  },
  {
   "cell_type": "code",
   "execution_count": 37,
   "id": "bd333546",
   "metadata": {},
   "outputs": [
    {
     "name": "stdout",
     "output_type": "stream",
     "text": [
      "[0.  0.6 1.2 1.8 2.4 3. ] \n",
      "\n",
      "\n",
      "[False False False False  True  True] \n",
      "\n",
      "\n",
      "(array([4, 5]),) \n",
      "\n",
      "\n",
      "[2.4 3. ]\n"
     ]
    }
   ],
   "source": [
    "# Where returns array of indices of the values that meet the expression\n",
    "# Conditional returns array of booleans of whether or not the values meet the expression\n",
    "\n",
    "a = np.linspace(0,3,6)\n",
    "print(a, '\\n\\n')\n",
    "\n",
    "print(a>2,'\\n\\n') # Conditional returns booleans in an array\n",
    "\n",
    "b = np.where(a>2) # Where returns indices in an array\n",
    "print(b,'\\n\\n')\n",
    "\n",
    "\n",
    "# the values of a that meet a>2 using the where function for indices.\n",
    "c = a[b]\n",
    "print(c)"
   ]
  },
  {
   "cell_type": "markdown",
   "id": "f045ebaa",
   "metadata": {},
   "source": [
    "### Exercise 2: Using Where in 2-D"
   ]
  },
  {
   "cell_type": "code",
   "execution_count": 38,
   "id": "03dc0a2b",
   "metadata": {},
   "outputs": [
    {
     "name": "stdout",
     "output_type": "stream",
     "text": [
      "[[0 1 2]\n",
      " [3 4 5]] \n",
      "\n",
      "\n",
      "[[False False False]\n",
      " [ True  True  True]] \n",
      "\n",
      "\n",
      "(array([1, 1]), array([1, 2])) \n",
      "\n",
      "\n",
      "[4 5]\n"
     ]
    }
   ],
   "source": [
    "a = np.arange(0,6).reshape(2,3)\n",
    "print(a, '\\n\\n')\n",
    "\n",
    "# bools of the values >3\n",
    "print(a>2, '\\n\\n') \n",
    "\n",
    "# returns indices of values >3\n",
    "b = np.where(a>3)\n",
    "print(b, '\\n\\n')\n",
    "\n",
    "# get the values of a that are >3\n",
    "c = a[b]\n",
    "print(c)"
   ]
  },
  {
   "cell_type": "markdown",
   "id": "cf7abcb7",
   "metadata": {},
   "source": [
    "## Array Operations - Linear Algebra"
   ]
  },
  {
   "cell_type": "markdown",
   "id": "2a7152e6",
   "metadata": {},
   "source": [
    "### Exercise 1: Transpose"
   ]
  },
  {
   "cell_type": "code",
   "execution_count": 45,
   "id": "aca98dc4",
   "metadata": {},
   "outputs": [
    {
     "name": "stdout",
     "output_type": "stream",
     "text": [
      "[[1 2 3 4]\n",
      " [5 6 7 8]] \n",
      "\n",
      "(2, 4) \n",
      "\n",
      "\n",
      "[[1 5]\n",
      " [2 6]\n",
      " [3 7]\n",
      " [4 8]] \n",
      "\n",
      "(4, 2)\n"
     ]
    }
   ],
   "source": [
    "# Transpose - flip the dimensions of an array.\n",
    "# returns a copy of the original array with the dimensions switched.\n",
    "\n",
    "a = np.arange(1,9).reshape(2,4)\n",
    "print(a,'\\n')\n",
    "print(a.shape, '\\n\\n')\n",
    "\n",
    "b = a.transpose()\n",
    "print(b,'\\n')\n",
    "print(b.shape)"
   ]
  },
  {
   "cell_type": "markdown",
   "id": "2713880e",
   "metadata": {},
   "source": [
    "### Exercise 2: Strides"
   ]
  },
  {
   "cell_type": "code",
   "execution_count": 46,
   "id": "ca1ea974",
   "metadata": {},
   "outputs": [
    {
     "name": "stdout",
     "output_type": "stream",
     "text": [
      "(32, 8)\n",
      "\n",
      "(8, 32)\n"
     ]
    }
   ],
   "source": [
    "# Strides - tuples of byte steps in each dimension\n",
    "# 8 bytes = 1 value\n",
    "\n",
    "# Notation:\n",
    "# (bytes to the next value, bytes to this index at the row below)\n",
    "\n",
    "print(a.strides)\n",
    "print()\n",
    "print(a.T.strides) # transpose the strides tuple"
   ]
  },
  {
   "cell_type": "markdown",
   "id": "85b64679",
   "metadata": {},
   "source": [
    "### Exercise 3: Sums"
   ]
  },
  {
   "cell_type": "code",
   "execution_count": 51,
   "id": "31e58a87",
   "metadata": {},
   "outputs": [
    {
     "name": "stdout",
     "output_type": "stream",
     "text": [
      "[[1 2]\n",
      " [3 4]\n",
      " [5 6]] \n",
      "\n",
      "Sum of all a: 21\n",
      "Sum of each column: [ 9 12]\n",
      "Sum of each row: [ 3  7 11]\n"
     ]
    }
   ],
   "source": [
    "# Sum up all elements in an array\n",
    "a = np.arange(1,7).reshape(3,2)\n",
    "print(a, '\\n')\n",
    "print('Sum of all a:', np.sum(a))\n",
    "\n",
    "# Sum along the axes\n",
    "# columns: axis=0\n",
    "# rows: axis=1\n",
    "print('Sum of each column:', np.sum(a, axis = 0)) \n",
    "print('Sum of each row:', np.sum(a, axis = 1))"
   ]
  },
  {
   "cell_type": "markdown",
   "id": "c6a76f90",
   "metadata": {},
   "source": [
    "### Exercise 4: Product"
   ]
  },
  {
   "cell_type": "code",
   "execution_count": 52,
   "id": "78403b73",
   "metadata": {},
   "outputs": [
    {
     "name": "stdout",
     "output_type": "stream",
     "text": [
      "[[1 2]\n",
      " [3 4]\n",
      " [5 6]] \n",
      "\n",
      "Product of all elements in a: 720\n",
      "Product of each column: [15 48]\n",
      "Product of each row: [ 2 12 30]\n"
     ]
    }
   ],
   "source": [
    "# Calculate the product of all elements in an array\n",
    "print(a, '\\n')\n",
    "print('Product of all elements in a:', a.prod())\n",
    "\n",
    "# Product along the axes\n",
    "print('Product of each column:', np.prod(a, axis=0))\n",
    "print('Product of each row:', np.prod(a, axis=1))"
   ]
  },
  {
   "cell_type": "markdown",
   "id": "feb73dcc",
   "metadata": {},
   "source": [
    "### Exercise 5: Matrix Multiplication"
   ]
  },
  {
   "cell_type": "code",
   "execution_count": 63,
   "id": "8071a49a",
   "metadata": {},
   "outputs": [
    {
     "name": "stdout",
     "output_type": "stream",
     "text": [
      "[[1. 2.]\n",
      " [3. 4.]] \n",
      "\n",
      "\n",
      "[[1. 2. 3.]\n",
      " [4. 5. 6.]]\n"
     ]
    }
   ],
   "source": [
    "# Multiply an n=2 identity matrix with a \n",
    "# 2x2 and 2x3 matrix, respectively\n",
    "a = np.eye(2)\n",
    "\n",
    "b = np.arange(1,5).reshape(2,2)\n",
    "matm_ab = np.matmul(a,b)\n",
    "\n",
    "c = np.arange(1,7).reshape(2,3)\n",
    "matm_ac = np.matmul(a,c)\n",
    "\n",
    "print(matm_ab, '\\n\\n')\n",
    "print(matm_ac)"
   ]
  },
  {
   "cell_type": "markdown",
   "id": "fde41b30",
   "metadata": {},
   "source": [
    "### Exercise 6: Dot Product"
   ]
  },
  {
   "cell_type": "code",
   "execution_count": 64,
   "id": "d241634b",
   "metadata": {},
   "outputs": [
    {
     "name": "stdout",
     "output_type": "stream",
     "text": [
      "Dot ab: [14 32 50]\n",
      "Dot bb: 14\n"
     ]
    }
   ],
   "source": [
    "a = np.arange(1,10).reshape(3,3)\n",
    "b = np.array([1,2,3])\n",
    "\n",
    "dot_ab = np.dot(a,b)\n",
    "dot_bb = np.dot(b,b)\n",
    "\n",
    "print('Dot ab:', dot_ab)\n",
    "print('Dot bb:', dot_bb)"
   ]
  },
  {
   "cell_type": "markdown",
   "id": "5fb1406a",
   "metadata": {},
   "source": [
    "### Exercise 7: Min. and Max. (and argmin/max)"
   ]
  },
  {
   "cell_type": "code",
   "execution_count": 70,
   "id": "a870efd6",
   "metadata": {},
   "outputs": [
    {
     "name": "stdout",
     "output_type": "stream",
     "text": [
      "[[ 0  1  2  3]\n",
      " [ 4  5  6  7]\n",
      " [ 8  9 10 11]] \n",
      "\n",
      "Min. of a: 0\n",
      "Max of a: 11\n",
      "Max along columns: [ 8  9 10 11]\n",
      "Min along rows: [0 4 8]\n",
      "\n",
      "Using np.argmin() and np.argmax():\n",
      "    Index of Min. of a: 0\n",
      "    Index of Max. along rows of a: [3 3 3]\n"
     ]
    }
   ],
   "source": [
    "# Find the Min./Max. Value of an array\n",
    "a = np.arange(0, 12).reshape(3,4)\n",
    "print(a, '\\n')\n",
    "\n",
    "min_a = a.min()\n",
    "max_a = a.max()\n",
    "\n",
    "# Find the Min./Max. along each axis of an array\n",
    "col_max = a.max(axis=0)\n",
    "row_min = a.min(axis=1)\n",
    "\n",
    "print('Min. of a:', min_a)\n",
    "print('Max of a:', max_a)\n",
    "print('Max along columns:', col_max)\n",
    "print('Min along rows:', row_min)\n",
    "\n",
    "\n",
    "# Find the indices of a Min./Max. of an array\n",
    "# argmin(array, axis)\n",
    "print()\n",
    "print('Using np.argmin() and np.argmax():')\n",
    "print('    Index of Min. of a:', np.argmin(a))\n",
    "print('    Index of Max. along rows of a:', np.argmax(a, axis=1))"
   ]
  },
  {
   "cell_type": "markdown",
   "id": "8451b6c0",
   "metadata": {},
   "source": [
    "## Statistics Array Methods"
   ]
  },
  {
   "cell_type": "markdown",
   "id": "5a6201fc",
   "metadata": {},
   "source": [
    "### Exercise 1: Mean and Average"
   ]
  },
  {
   "cell_type": "code",
   "execution_count": 74,
   "id": "692ba972",
   "metadata": {},
   "outputs": [
    {
     "name": "stdout",
     "output_type": "stream",
     "text": [
      "[[1 2 3]\n",
      " [4 5 6]\n",
      " [7 8 9]] \n",
      "\n",
      "Mean: 5.0\n",
      "Mean of each column: [4. 5. 6.]\n",
      "Mean of each row: [2. 5. 8.]\n",
      "\n",
      "Average: 5.0\n",
      "Avg. of each column: [4. 5. 6.]\n",
      "Avg. of each row: [2. 5. 8.]\n"
     ]
    }
   ],
   "source": [
    "# Mean of entire array\n",
    "a = np.arange(1,10).reshape(3,3)\n",
    "mean = a.mean()\n",
    "\n",
    "# Mean by Axes\n",
    "mean_cols = a.mean(axis=0)\n",
    "mean_rows = a.mean(axis=1)\n",
    "\n",
    "print(a, '\\n')\n",
    "print('Mean:', mean)\n",
    "print('Mean of each column:', mean_cols)\n",
    "print('Mean of each row:', mean_rows)\n",
    "\n",
    "\n",
    "# average() is a similar function to mean() that can also be used.\n",
    "print()\n",
    "print('Average:', np.average(a))\n",
    "\n",
    "# can also average by axis\n",
    "avg_cols = np.average(a, axis=0)\n",
    "avg_rows = np.average(a, axis=1)\n",
    "print('Avg. of each column:', avg_cols)\n",
    "print('Avg. of each row:', avg_rows)"
   ]
  },
  {
   "cell_type": "markdown",
   "id": "9cef2ad2",
   "metadata": {},
   "source": [
    "### Exercise 2: Standard Deviation"
   ]
  },
  {
   "cell_type": "code",
   "execution_count": 80,
   "id": "a4767307",
   "metadata": {},
   "outputs": [
    {
     "name": "stdout",
     "output_type": "stream",
     "text": [
      "[[1. 1. 1. 1.]] \n",
      "\n",
      "[ 5  6  7  8  9 10] \n",
      "\n",
      "Std. Dev. a: 0.0\n",
      "Std. Dev. b: 1.707825127659933 \n",
      "\n",
      "\n",
      "[[ 5  6  7]\n",
      " [ 8  9 10]] \n",
      "\n",
      "Std. Dev. b columns: [1.5 1.5 1.5]\n",
      "Std. Dev. b rows: [0.81649658 0.81649658]\n"
     ]
    }
   ],
   "source": [
    "# Can find the standard deviation of the elements in the entire array\n",
    "a = np.ones([1,4])\n",
    "b = np.arange(5,11)\n",
    "\n",
    "print(a, '\\n')\n",
    "print(b, '\\n')\n",
    "\n",
    "std_a = a.std()\n",
    "std_b = b.std()\n",
    "\n",
    "# can find the std. dev. by axis as well\n",
    "b.shape = [2,3]\n",
    "std_b_cols = b.std(axis=0)\n",
    "std_b_rows = b.std(axis=1)\n",
    "\n",
    "print('Std. Dev. a:', std_a)\n",
    "print('Std. Dev. b:', std_b, '\\n\\n')\n",
    "print(b, '\\n')\n",
    "print('Std. Dev. b columns:', std_b_cols)\n",
    "print('Std. Dev. b rows:', std_b_rows)"
   ]
  },
  {
   "cell_type": "markdown",
   "id": "4fd900ba",
   "metadata": {},
   "source": [
    "### Exercise 3: Variance"
   ]
  },
  {
   "cell_type": "code",
   "execution_count": 81,
   "id": "3748de69",
   "metadata": {},
   "outputs": [
    {
     "name": "stdout",
     "output_type": "stream",
     "text": [
      "[[ 5  6  7]\n",
      " [ 8  9 10]] \n",
      "\n",
      "Variance b: 2.9166666666666665\n",
      "Var. b columns: [2.25 2.25 2.25]\n",
      "Var. b rows: [0.66666667 0.66666667]\n"
     ]
    }
   ],
   "source": [
    "var_b = b.var()\n",
    "var_b_cols = b.var(axis=0)\n",
    "var_b_rows = b.var(axis=1)\n",
    "\n",
    "print(b, '\\n')\n",
    "print('Variance b:', var_b)\n",
    "print('Var. b columns:', var_b_cols)\n",
    "print('Var. b rows:', var_b_rows)"
   ]
  },
  {
   "cell_type": "markdown",
   "id": "5338592d",
   "metadata": {},
   "source": [
    "## Other Useful Methods"
   ]
  },
  {
   "cell_type": "markdown",
   "id": "76cfb68f",
   "metadata": {},
   "source": [
    "### Exercise 1: Clip"
   ]
  },
  {
   "cell_type": "code",
   "execution_count": 91,
   "id": "9ad0c952",
   "metadata": {},
   "outputs": [
    {
     "name": "stdout",
     "output_type": "stream",
     "text": [
      "original:\n",
      "[15.    16.875 18.75  20.625 22.5   24.375 26.25  28.125 30.   ] \n",
      "\n",
      "with lower and upper bounds:\n",
      "[18.    18.    18.75  20.625 22.5   24.375 26.    26.    26.   ] \n",
      "\n",
      "with lower bound only:\n",
      "[18.    18.    18.75  20.625 22.5   24.375 26.25  28.125 30.   ] \n",
      "\n",
      "with upper bound only:\n",
      "[15.    16.875 18.75  20.625 22.5   24.375 26.    26.    26.   ]\n"
     ]
    }
   ],
   "source": [
    "# Clip - setting values that are outside of the given bounds to one of the bounds\n",
    "# if n < min: n = min, if m > max: m = max\n",
    "\n",
    "# Returns a copy of the original with all values within bounds given.\n",
    "\n",
    "# bounds:\n",
    "lower = 18\n",
    "upper = 26\n",
    "\n",
    "a = np.linspace(15,30,9)\n",
    "print('original:')\n",
    "print(a, '\\n')\n",
    "\n",
    "b = a.clip(lower, upper)\n",
    "print('with lower and upper bounds:')\n",
    "print(b, '\\n')\n",
    "\n",
    "c = a.clip(lower)\n",
    "print('with lower bound only:')\n",
    "print(c, '\\n')\n",
    "\n",
    "d = a.clip(None,upper)\n",
    "print('with upper bound only:')\n",
    "print(d)"
   ]
  },
  {
   "cell_type": "markdown",
   "id": "c130f4a2",
   "metadata": {},
   "source": [
    "### Exercise 2: Peak to Peak"
   ]
  },
  {
   "cell_type": "code",
   "execution_count": 96,
   "id": "1ecf6c22",
   "metadata": {},
   "outputs": [
    {
     "name": "stdout",
     "output_type": "stream",
     "text": [
      "[[ 1  7  6  4]\n",
      " [ 9  2  8  5]\n",
      " [ 3 12 10  0]] \n",
      "\n",
      "ptp a: 12\n",
      "ptp cols: [ 8 10  4  5]\n",
      "ptp rows: [ 6  7 12]\n"
     ]
    }
   ],
   "source": [
    "# Calculates the difference from the lowest value to the highest value in an array.\n",
    "a = np.array([[1,7,6,4], [9,2,8,5], [3, 12, 10, 0]])\n",
    "ptp_a = a.ptp()\n",
    "\n",
    "# Can be used along axes as well\n",
    "ptp_cols = a.ptp(axis=0)\n",
    "ptp_rows = a.ptp(axis=1)\n",
    "\n",
    "print(a, '\\n')\n",
    "print('ptp a:', ptp_a)\n",
    "print('ptp cols:', ptp_cols)\n",
    "print('ptp rows:', ptp_rows)"
   ]
  }
 ],
 "metadata": {
  "kernelspec": {
   "display_name": "Python 3 (ipykernel)",
   "language": "python",
   "name": "python3"
  },
  "language_info": {
   "codemirror_mode": {
    "name": "ipython",
    "version": 3
   },
   "file_extension": ".py",
   "mimetype": "text/x-python",
   "name": "python",
   "nbconvert_exporter": "python",
   "pygments_lexer": "ipython3",
   "version": "3.9.12"
  }
 },
 "nbformat": 4,
 "nbformat_minor": 5
}
