{
 "cells": [
  {
   "cell_type": "markdown",
   "id": "4ce6d07d",
   "metadata": {},
   "source": [
    "# Pandas Practice\n",
    "This section will go over exercises using pandas."
   ]
  },
  {
   "cell_type": "markdown",
   "id": "2d26fc34",
   "metadata": {},
   "source": [
    "## Pandas: Series and DataFrames"
   ]
  },
  {
   "cell_type": "markdown",
   "id": "d622d230",
   "metadata": {},
   "source": [
    "### Series\n",
    "A 1-D object similar to an array that contains a sequence of values. Has an associated array containing data labels (called its *index*)."
   ]
  },
  {
   "cell_type": "markdown",
   "id": "2e8cfe5a",
   "metadata": {},
   "source": [
    "#### Exercise 1: Series Basics"
   ]
  },
  {
   "cell_type": "code",
   "execution_count": 1,
   "id": "8836fa0f",
   "metadata": {},
   "outputs": [
    {
     "name": "stdout",
     "output_type": "stream",
     "text": [
      "scores: [73 62 88 62 66 77] \n",
      "\n",
      "Pandas series of scores:\n",
      "0    73\n",
      "1    62\n",
      "2    88\n",
      "3    62\n",
      "4    66\n",
      "5    77\n",
      "dtype: int64\n"
     ]
    }
   ],
   "source": [
    "import pandas as pd\n",
    "import numpy as np\n",
    "\n",
    "np.random.seed(123)\n",
    "scores = np.random.randint(60,90,6)\n",
    "print('scores:', scores, '\\n')\n",
    "\n",
    "a = pd.Series(scores)\n",
    "print('Pandas series of scores:\\n', a, sep ='')\n",
    "\n",
    "# The column on the left is the index of the series.\n",
    "# The column on the right contains the scores data."
   ]
  },
  {
   "cell_type": "markdown",
   "id": "ac4f99c8",
   "metadata": {},
   "source": [
    "#### Exercise 2: Values, Indexing, Type, and Slicing"
   ]
  },
  {
   "cell_type": "code",
   "execution_count": 2,
   "id": "50357532",
   "metadata": {},
   "outputs": [
    {
     "name": "stdout",
     "output_type": "stream",
     "text": [
      "values: [73 62 88 62 66 77]\n",
      "\n",
      "indices: RangeIndex(start=0, stop=6, step=1)\n",
      "\n",
      "value by index: 62\n",
      "  type: <class 'numpy.int64'>\n",
      "\n",
      "indexing from a:\n",
      "2    88\n",
      "5    77\n",
      "dtype: int64\n",
      "\n",
      "slicing from a:\n",
      "0    73\n",
      "2    88\n",
      "4    66\n",
      "dtype: int64\n"
     ]
    }
   ],
   "source": [
    "# Retrieving the Values of a Series\n",
    "a_vals = a.values\n",
    "print('values:', a_vals)\n",
    "\n",
    "# Retrieving Indices of a Series\n",
    "a_idx = a.index\n",
    "print('\\nindices:', a_idx)\n",
    "\n",
    "# Value by Index\n",
    "print('\\nvalue by index:', a[1])\n",
    "\n",
    "# Type\n",
    "print('  type:', type(a[1]))\n",
    "\n",
    "# Indexing\n",
    "b = a[[2,5]] # takes rows 2 and 5\n",
    "print('\\nindexing from a:\\n', b, sep='')\n",
    "\n",
    "# Slicing\n",
    "c = a[::2] # goes through every col/row, steps of 2\n",
    "print('\\nslicing from a:\\n', c, sep='')"
   ]
  },
  {
   "cell_type": "markdown",
   "id": "238aabb9",
   "metadata": {},
   "source": [
    "#### Exercise 2: Create a Series"
   ]
  },
  {
   "cell_type": "code",
   "execution_count": 3,
   "id": "357f154b",
   "metadata": {},
   "outputs": [
    {
     "name": "stdout",
     "output_type": "stream",
     "text": [
      "Alice      73\n",
      "Edward     62\n",
      "Bella      88\n",
      "Jacob      62\n",
      "Charlie    66\n",
      "Rosalie    77\n",
      "dtype: int64 \n",
      "\n",
      "62 \n",
      "\n",
      "Jacob    62\n",
      "Alice    73\n",
      "dtype: int64\n",
      "\n",
      " Rosalie    77\n",
      "Bella      88\n",
      "dtype: int64\n",
      "\n",
      " Alice      73\n",
      "Bella      88\n",
      "Rosalie    77\n",
      "dtype: int64\n"
     ]
    }
   ],
   "source": [
    "# can assign index values rather than the default.\n",
    "b = pd.Series(scores, index = ['Alice', 'Edward', 'Bella', 'Jacob', 'Charlie', 'Rosalie'])\n",
    "print(b, '\\n')\n",
    "\n",
    "# Index a single value\n",
    "print(b['Edward'], '\\n')\n",
    "\n",
    "# Index rows\n",
    "print(b[['Jacob', 'Alice']])\n",
    "\n",
    "# Slicing\n",
    "print('\\n', b[::-3])\n",
    "\n",
    "# Conditional Statements\n",
    "print('\\n', b[b>67])"
   ]
  },
  {
   "cell_type": "markdown",
   "id": "28f9d0a4",
   "metadata": {},
   "source": [
    "#### Exercise 3: Series Arithmetic"
   ]
  },
  {
   "cell_type": "code",
   "execution_count": 4,
   "id": "d2bb881a",
   "metadata": {},
   "outputs": [
    {
     "name": "stdout",
     "output_type": "stream",
     "text": [
      "Alice      83\n",
      "Edward     72\n",
      "Bella      98\n",
      "Jacob      72\n",
      "Charlie    76\n",
      "Rosalie    87\n",
      "dtype: int64\n",
      "\n",
      "98\n"
     ]
    }
   ],
   "source": [
    "# Can Add/Subtract/Multiply/Divide all Elements in a series\n",
    "print(b+10)\n",
    "# print(b-10)\n",
    "# print(b*10)\n",
    "# print(b/10)\n",
    "print()\n",
    "\n",
    "# Can do the same on individual values\n",
    "print(b['Bella']+10)"
   ]
  },
  {
   "cell_type": "markdown",
   "id": "fa7311fc",
   "metadata": {},
   "source": [
    "#### Exercise 4: Cumulative Sum and Average"
   ]
  },
  {
   "cell_type": "code",
   "execution_count": 5,
   "id": "1d80b21a",
   "metadata": {},
   "outputs": [
    {
     "name": "stdout",
     "output_type": "stream",
     "text": [
      "0     73\n",
      "1    135\n",
      "2    223\n",
      "3    285\n",
      "4    351\n",
      "5    428\n",
      "dtype: int64\n",
      "\n",
      "0     73\n",
      "1    135\n",
      "2    223\n",
      "3    285\n",
      "4    351\n",
      "5    428\n",
      "dtype: int64\n",
      "\n",
      "71.33333333333333\n"
     ]
    }
   ],
   "source": [
    "# Cumulative sum = value + all values that came before\n",
    "# np.cumsum(): returns cumulative sum of elements\n",
    "\n",
    "# Sum of all elements\n",
    "c = np.cumsum(a)\n",
    "\n",
    "\n",
    "# Sum of all elements on an axis\n",
    "d = np.cumsum(a, axis=0)\n",
    "\n",
    "\n",
    "#Find the average of the values in a series\n",
    "avg = np.average(b)\n",
    "\n",
    "\n",
    "print(c,d,avg,sep='\\n\\n')"
   ]
  },
  {
   "cell_type": "markdown",
   "id": "0ef1768b",
   "metadata": {},
   "source": [
    "#### Exercise 5: desribe()"
   ]
  },
  {
   "cell_type": "code",
   "execution_count": 6,
   "id": "d7c1d1a2",
   "metadata": {},
   "outputs": [
    {
     "data": {
      "text/plain": [
       "count     6.000000\n",
       "mean     71.333333\n",
       "std      10.152175\n",
       "min      62.000000\n",
       "25%      63.000000\n",
       "50%      69.500000\n",
       "75%      76.000000\n",
       "max      88.000000\n",
       "dtype: float64"
      ]
     },
     "execution_count": 6,
     "metadata": {},
     "output_type": "execute_result"
    }
   ],
   "source": [
    "# Use the describe function to automatically retrieve lots of info on a series\n",
    "b.describe()"
   ]
  },
  {
   "cell_type": "markdown",
   "id": "d6d75bc7",
   "metadata": {},
   "source": [
    "#### Exercise 6: in and index.name "
   ]
  },
  {
   "cell_type": "code",
   "execution_count": 7,
   "id": "7e7ea9eb",
   "metadata": {},
   "outputs": [
    {
     "name": "stdout",
     "output_type": "stream",
     "text": [
      "True\n",
      "False\n",
      "\n",
      "Names\n",
      "Alice      73\n",
      "Edward     62\n",
      "Bella      88\n",
      "Jacob      62\n",
      "Charlie    66\n",
      "Rosalie    77\n",
      "dtype: int64\n"
     ]
    }
   ],
   "source": [
    "# Can Search for values in a series just like a python dictionary\n",
    "print('Jacob' in b)\n",
    "print('Aro' in b)\n",
    "print()\n",
    "\n",
    "\n",
    "# Can also name the index column\n",
    "b.index.name = 'Names'\n",
    "print(b)"
   ]
  },
  {
   "cell_type": "markdown",
   "id": "897259f1",
   "metadata": {},
   "source": [
    "### Create a Series from Python Dictionary"
   ]
  },
  {
   "cell_type": "code",
   "execution_count": 8,
   "id": "82b75f16",
   "metadata": {},
   "outputs": [
    {
     "name": "stdout",
     "output_type": "stream",
     "text": [
      "ringo        drums\n",
      "paul          bass\n",
      "john      r.guitar\n",
      "george    l.guitar\n",
      "elton          NaN\n",
      "dtype: object\n",
      "\n",
      "Is null:\n",
      "ringo     False\n",
      "paul      False\n",
      "john      False\n",
      "george    False\n",
      "elton      True\n",
      "dtype: bool\n",
      "\n",
      " Is not null:\n",
      "ringo      True\n",
      "paul       True\n",
      "john       True\n",
      "george     True\n",
      "elton     False\n",
      "dtype: bool\n",
      "\n",
      "elton                  NaN\n",
      "george    l.guitar,harmony\n",
      "john       r.guitar,vocals\n",
      "paul             bass,keys\n",
      "ringo         drums,rhythm\n",
      "dtype: object\n",
      "\n",
      "george    l.guitar,harmony\n",
      "john       r.guitar,vocals\n",
      "paul             bass,keys\n",
      "ringo         drums,rhythm\n",
      "dtype: object\n"
     ]
    }
   ],
   "source": [
    "a = {'john': 'r.guitar', 'paul': 'bass', 'george': 'l.guitar', 'ringo':'drums'}\n",
    "\n",
    "beatles = pd.Series(a, index=['ringo',  'paul', 'john', 'george', 'elton'])\n",
    "print(beatles)\n",
    "\n",
    "# Can also check for null values\n",
    "print('\\nIs null:')\n",
    "print(pd.isnull(beatles))\n",
    "\n",
    "print('\\n Is not null:')\n",
    "print(pd.notnull(beatles))\n",
    "\n",
    "\n",
    "\n",
    "# Add series together!\n",
    "bobbles = pd.Series({'john': ',vocals', 'paul': ',keys', 'george': ',harmony',\\\n",
    "                     'ringo': ',rhythm', 'elton': 'john'})\n",
    "\n",
    "print()\n",
    "print(beatles+bobbles)\n",
    "\n",
    "\n",
    "# Drop Nulls: dropna()\n",
    "print()\n",
    "print((beatles+bobbles).dropna())"
   ]
  },
  {
   "cell_type": "markdown",
   "id": "e9b490fd",
   "metadata": {},
   "source": [
    "## Pandas DataFrame"
   ]
  },
  {
   "cell_type": "markdown",
   "id": "39b72a20",
   "metadata": {},
   "source": [
    "Represents a table of data with ordered columns, rows, and column index. \n",
    "Each column can support different value types."
   ]
  },
  {
   "cell_type": "markdown",
   "id": "e7ea274a",
   "metadata": {},
   "source": [
    "### Create DataFrames from Python Dictionary"
   ]
  },
  {
   "cell_type": "code",
   "execution_count": 9,
   "id": "d8fb6fba",
   "metadata": {},
   "outputs": [
    {
     "name": "stdout",
     "output_type": "stream",
     "text": [
      "        team  year  wins\n",
      "0  Mavericks  2012     5\n",
      "1      Spurs  2012     8\n",
      "2    Rockets  2009     3\n",
      "3     Astros  2006     2\n",
      "4    Cowboys  2015     4\n",
      "5     Texans  2013     1\n"
     ]
    }
   ],
   "source": [
    "stats = {'team':['Mavericks', 'Spurs', 'Rockets', 'Astros', 'Cowboys', 'Texans'],\\\n",
    "         'year': [2012, 2012, 2009, 2006, 2015, 2013], 'wins': [5,8,3,2,4, 1]}\n",
    "\n",
    "df1 = pd.DataFrame(stats)\n",
    "print(df1)"
   ]
  },
  {
   "cell_type": "markdown",
   "id": "b45011f6",
   "metadata": {},
   "source": [
    "#### Exercise 1: head() and tail()"
   ]
  },
  {
   "cell_type": "code",
   "execution_count": 10,
   "id": "3b2084ae",
   "metadata": {},
   "outputs": [
    {
     "name": "stdout",
     "output_type": "stream",
     "text": [
      "        team  year  wins\n",
      "0  Mavericks  2012     5\n",
      "1      Spurs  2012     8\n",
      "2    Rockets  2009     3\n",
      "3     Astros  2006     2\n",
      "4    Cowboys  2015     4\n",
      "\n",
      "      team  year  wins\n",
      "3   Astros  2006     2\n",
      "4  Cowboys  2015     4\n",
      "5   Texans  2013     1\n"
     ]
    }
   ],
   "source": [
    "#Access head of dataframe using head()\n",
    "print(df1.head())\n",
    "print()\n",
    "\n",
    "#Access tail of dataframe using tail()\n",
    "print(df1.tail(n=3))"
   ]
  },
  {
   "cell_type": "markdown",
   "id": "17c8a66f",
   "metadata": {},
   "source": [
    "### DataFrame Columns"
   ]
  },
  {
   "cell_type": "markdown",
   "id": "a9f5a84a",
   "metadata": {},
   "source": [
    "#### Exercise 1: Rename Columns"
   ]
  },
  {
   "cell_type": "code",
   "execution_count": 11,
   "id": "681431bf",
   "metadata": {},
   "outputs": [
    {
     "name": "stdout",
     "output_type": "stream",
     "text": [
      "original:\n",
      "         team  year  wins\n",
      "0  Mavericks  2012     5\n",
      "1      Spurs  2012     8\n",
      "2    Rockets  2009     3\n",
      "3     Astros  2006     2\n",
      "4    Cowboys  2015     4\n",
      "5     Texans  2013     1 \n",
      "\n",
      "switched order of columns:\n",
      "    year       team  wins\n",
      "0  2012  Mavericks     5\n",
      "1  2012      Spurs     8\n",
      "2  2009    Rockets     3\n",
      "3  2006     Astros     2\n",
      "4  2015    Cowboys     4\n",
      "5  2013     Texans     1 \n",
      "\n",
      "renamed columns:\n",
      "    Best Year       Team  Titles Won\n",
      "0       2012  Mavericks           5\n",
      "1       2012      Spurs           8\n",
      "2       2009    Rockets           3\n",
      "3       2006     Astros           2\n",
      "4       2015    Cowboys           4\n",
      "5       2013     Texans           1\n"
     ]
    }
   ],
   "source": [
    "print('original:\\n', df1, '\\n')\n",
    "\n",
    "# Switch order of columns\n",
    "df1 = pd.DataFrame(stats, columns = ['year', 'team', 'wins'])\n",
    "print('switched order of columns:\\n', df1, '\\n')\n",
    "\n",
    "# Rename columns using dictionary\n",
    "df1 = df1.rename(columns={'team': 'Team', 'year': 'Best Year',\\\n",
    "                          'wins' : 'Titles Won'})\n",
    "print('renamed columns:\\n', df1)"
   ]
  },
  {
   "cell_type": "markdown",
   "id": "c6f9f491",
   "metadata": {},
   "source": [
    "#### Exercise 2: Add New Column "
   ]
  },
  {
   "cell_type": "code",
   "execution_count": 12,
   "id": "85a9a003",
   "metadata": {},
   "outputs": [
    {
     "name": "stdout",
     "output_type": "stream",
     "text": [
      "   year       team  wins coach\n",
      "0  2012  Mavericks     5   NaN\n",
      "1  2012      Spurs     8   NaN\n",
      "2  2009    Rockets     3   NaN\n",
      "3  2006     Astros     2   NaN\n",
      "4  2015    Cowboys     4   NaN\n",
      "5  2013     Texans     1   NaN\n",
      "\n",
      "Index(['year', 'team', 'wins', 'coach'], dtype='object')\n",
      "\n",
      "RangeIndex(start=0, stop=6, step=1)\n",
      "Filled the new column:\n",
      "    year       team  wins  coach\n",
      "0  2012  Mavericks     5   greg\n",
      "1  2012      Spurs     8  steve\n",
      "2  2009    Rockets     3   alex\n",
      "3  2006     Astros     2   rose\n",
      "4  2015    Cowboys     4  wanda\n",
      "5  2013     Texans     1   mike\n"
     ]
    }
   ],
   "source": [
    "# Create new Column\n",
    "df2 = pd.DataFrame(stats, columns = ['year', 'team', 'wins', 'coach'])\n",
    "print(df2, df2.columns, df2.index, sep='\\n\\n')\n",
    "\n",
    "\n",
    "# Add values to the new column\n",
    "df2['coach'] = np.array(['greg', 'steve', 'alex', 'rose',\\\n",
    "                         'wanda', 'mike'])\n",
    "print('Filled the new column:\\n', df2)"
   ]
  },
  {
   "cell_type": "markdown",
   "id": "b7864fab",
   "metadata": {},
   "source": [
    "#### Exercise 3: Another Way to Add Columns, Deleting Columns"
   ]
  },
  {
   "cell_type": "code",
   "execution_count": 13,
   "id": "8b95fdda",
   "metadata": {},
   "outputs": [
    {
     "name": "stdout",
     "output_type": "stream",
     "text": [
      "New Column:\n",
      "    year       team  wins  coach  Made Finals\n",
      "0  2012  Mavericks     5   greg         True\n",
      "1  2012      Spurs     8  steve         True\n",
      "2  2009    Rockets     3   alex        False\n",
      "3  2006     Astros     2   rose        False\n",
      "4  2015    Cowboys     4  wanda         True\n",
      "5  2013     Texans     1   mike        False \n",
      "\n",
      "Deleted New Column:\n",
      "    year       team  wins  coach\n",
      "0  2012  Mavericks     5   greg\n",
      "1  2012      Spurs     8  steve\n",
      "2  2009    Rockets     3   alex\n",
      "3  2006     Astros     2   rose\n",
      "4  2015    Cowboys     4  wanda\n",
      "5  2013     Texans     1   mike\n"
     ]
    }
   ],
   "source": [
    "# Add a column\n",
    "df2['Made Finals'] = df2.wins > 3\n",
    "print('New Column:\\n', df2, '\\n')\n",
    "\n",
    "# Delete a column\n",
    "del df2['Made Finals']\n",
    "print('Deleted New Column:\\n', df2)"
   ]
  },
  {
   "cell_type": "markdown",
   "id": "87ddb175",
   "metadata": {},
   "source": [
    "#### Exercise 4: Access DataFrame Columns"
   ]
  },
  {
   "cell_type": "code",
   "execution_count": 14,
   "id": "044ee405",
   "metadata": {},
   "outputs": [
    {
     "name": "stdout",
     "output_type": "stream",
     "text": [
      "0    Mavericks\n",
      "1        Spurs\n",
      "2      Rockets\n",
      "3       Astros\n",
      "4      Cowboys\n",
      "5       Texans\n",
      "Name: team, dtype: object\n",
      "\n",
      "<class 'pandas.core.series.Series'>\n",
      "\n",
      "0    Mavericks\n",
      "1        Spurs\n",
      "2      Rockets\n",
      "3       Astros\n",
      "4      Cowboys\n",
      "5       Texans\n",
      "Name: team, dtype: object\n",
      "\n",
      "        team  coach\n",
      "0  Mavericks   greg\n",
      "1      Spurs  steve\n",
      "2    Rockets   alex\n",
      "3     Astros   rose\n",
      "4    Cowboys  wanda\n",
      "5     Texans   mike\n"
     ]
    }
   ],
   "source": [
    "# Multiple ways to access column data (a and c).\n",
    "# Access type of a single column (b).\n",
    "# Can also access only certain columns (d).\n",
    "\n",
    "a = df2['team']\n",
    "b = type(a)\n",
    "c = df2.team\n",
    "d = df2[['team', 'coach']]\n",
    "\n",
    "print(a, b, c, d, sep='\\n\\n')"
   ]
  },
  {
   "cell_type": "markdown",
   "id": "9753b354",
   "metadata": {},
   "source": [
    "### DataFrame Rows"
   ]
  },
  {
   "cell_type": "markdown",
   "id": "79a71599",
   "metadata": {},
   "source": [
    "#### Exercise 1: Retrieve Rows- iloc[ ]"
   ]
  },
  {
   "cell_type": "code",
   "execution_count": 15,
   "id": "ac6eae58",
   "metadata": {},
   "outputs": [
    {
     "name": "stdout",
     "output_type": "stream",
     "text": [
      "   year       team  wins  coach\n",
      "0  2012  Mavericks     5   greg\n",
      "1  2012      Spurs     8  steve\n",
      "2  2009    Rockets     3   alex\n",
      "3  2006     Astros     2   rose\n",
      "4  2015    Cowboys     4  wanda\n",
      "5  2013     Texans     1   mike \n",
      "\n",
      "retrieve a row:\n",
      " year      2012\n",
      "team     Spurs\n",
      "wins         8\n",
      "coach    steve\n",
      "Name: 1, dtype: object \n",
      "\n",
      "retrieve specific rows:\n",
      "    year       team  wins  coach\n",
      "0  2012  Mavericks     5   greg\n",
      "1  2012      Spurs     8  steve\n",
      "5  2013     Texans     1   mike \n",
      "\n",
      "retrieve slice:\n",
      "    year       team  wins  coach\n",
      "0  2012  Mavericks     5   greg\n",
      "1  2012      Spurs     8  steve\n",
      "2  2009    Rockets     3   alex\n"
     ]
    }
   ],
   "source": [
    "# iloc[]: INTEGER-location based indexing\n",
    "print(df2, '\\n')\n",
    "\n",
    "# retrieve single row\n",
    "print('retrieve a row:\\n', df2.iloc[1], '\\n')\n",
    "\n",
    "# retrieve list of rows\n",
    "print('retrieve specific rows:\\n', df2.iloc[[0,1,5]], '\\n')\n",
    "\n",
    "# retrieve slice of rows\n",
    "print('retrieve slice:\\n', df2.iloc[:3])"
   ]
  },
  {
   "cell_type": "markdown",
   "id": "8c271011",
   "metadata": {},
   "source": [
    "#### Exercise 2: Retrieve Rows- loc[ ] "
   ]
  },
  {
   "cell_type": "code",
   "execution_count": 16,
   "id": "b623f8c7",
   "metadata": {},
   "outputs": [
    {
     "name": "stdout",
     "output_type": "stream",
     "text": [
      "       year       team  wins  coach\n",
      "zero   2012  Mavericks     5   greg\n",
      "one    2012      Spurs     8  steve\n",
      "two    2009    Rockets     3   alex\n",
      "three  2006     Astros     2   rose\n",
      "four   2015    Cowboys     4  wanda\n",
      "five   2013     Texans     1   mike \n",
      "\n",
      "\n",
      "single row:\n",
      " year        2015\n",
      "team     Cowboys\n",
      "wins           4\n",
      "coach      wanda\n",
      "Name: four, dtype: object \n",
      "\n",
      "mult. rows:\n",
      "        year       team  wins coach\n",
      "zero   2012  Mavericks     5  greg\n",
      "two    2009    Rockets     3  alex\n",
      "three  2006     Astros     2  rose \n",
      "\n"
     ]
    }
   ],
   "source": [
    "# loc[]: location based search. use for indices that are not integers\n",
    "\n",
    "df2.index = ['zero', 'one', 'two', 'three', 'four', 'five']\n",
    "print(df2, '\\n\\n')\n",
    "\n",
    "\n",
    "# retrieve single row\n",
    "print('single row:\\n', df2.loc['four'], '\\n')\n",
    "\n",
    "# retrieve multiple rows\n",
    "print('mult. rows:\\n', df2.loc[['zero', 'two', 'three']], '\\n')"
   ]
  },
  {
   "cell_type": "markdown",
   "id": "be6e3cc1",
   "metadata": {},
   "source": [
    "#### Exercise 3: Transpose a Table"
   ]
  },
  {
   "cell_type": "code",
   "execution_count": 17,
   "id": "f80d0809",
   "metadata": {},
   "outputs": [
    {
     "name": "stdout",
     "output_type": "stream",
     "text": [
      "            zero    one      two   three     four    five\n",
      "year        2012   2012     2009    2006     2015    2013\n",
      "team   Mavericks  Spurs  Rockets  Astros  Cowboys  Texans\n",
      "wins           5      8        3       2        4       1\n",
      "coach       greg  steve     alex    rose    wanda    mike\n"
     ]
    }
   ],
   "source": [
    "t = df2.T\n",
    "print(t)"
   ]
  },
  {
   "cell_type": "markdown",
   "id": "37700551",
   "metadata": {},
   "source": [
    "### Create DataFrame from Nested Dictionaries"
   ]
  },
  {
   "cell_type": "code",
   "execution_count": 18,
   "id": "fd85d206",
   "metadata": {},
   "outputs": [
    {
     "name": "stdout",
     "output_type": "stream",
     "text": [
      "      Nintendo  Sega  Konami\n",
      "2020      10.0   5.2     4.5\n",
      "2021      17.2   4.9     4.6\n"
     ]
    }
   ],
   "source": [
    "sales = {'Nintendo': {'2020': 10.0, '2021': 17.2},\\\n",
    "         'Sega': {'2020': 5.2, '2021': 4.9},\\\n",
    "         'Konami': {'2020': 4.5, '2021': 4.6}}\n",
    "\n",
    "df3 = pd.DataFrame(sales)\n",
    "print(df3)"
   ]
  },
  {
   "cell_type": "markdown",
   "id": "85e6469c",
   "metadata": {},
   "source": [
    "### Pandas Series Reindexing"
   ]
  },
  {
   "cell_type": "markdown",
   "id": "fafccbf7",
   "metadata": {},
   "source": [
    "#### Exercise 1: Reindexing"
   ]
  },
  {
   "cell_type": "code",
   "execution_count": 19,
   "id": "a17efe3e",
   "metadata": {},
   "outputs": [
    {
     "name": "stdout",
     "output_type": "stream",
     "text": [
      "original:\n",
      "c    12.2\n",
      "d     1.3\n",
      "b     7.6\n",
      "a     8.9\n",
      "dtype: float64\n",
      "\n",
      "reindexed:\n",
      "a     8.9\n",
      "b     7.6\n",
      "c    12.2\n",
      "d     1.3\n",
      "dtype: float64\n"
     ]
    }
   ],
   "source": [
    "# Change the order of the rows without changing the\n",
    "# values each row is associated with.\n",
    "\n",
    "# Create a Series\n",
    "df1 = pd.Series([12.2, 1.3, 7.6, 8.9], index=['c', 'd', 'b', 'a'])\n",
    "print('original:\\n', df1, '\\n', sep='')\n",
    "\n",
    "# Reindex\n",
    "df2 = df1.reindex(['a', 'b', 'c', 'd'])\n",
    "print('reindexed:\\n', df2, sep='')"
   ]
  },
  {
   "cell_type": "markdown",
   "id": "ab61197e",
   "metadata": {},
   "source": [
    "#### Exercise 2: Reindex, Forward Fill, Backward Fill"
   ]
  },
  {
   "cell_type": "code",
   "execution_count": 20,
   "id": "e2d37cab",
   "metadata": {},
   "outputs": [
    {
     "name": "stdout",
     "output_type": "stream",
     "text": [
      "original:\n",
      "0      blue\n",
      "2    purple\n",
      "4    yellow\n",
      "dtype: object\n",
      "\n",
      "reindex to create missing rows:\n",
      "0      blue\n",
      "1       NaN\n",
      "2    purple\n",
      "3       NaN\n",
      "4    yellow\n",
      "5       NaN\n",
      "dtype: object\n",
      "\n",
      "Forward Fill:\n",
      "0      blue\n",
      "1      blue\n",
      "2    purple\n",
      "3    purple\n",
      "4    yellow\n",
      "5    yellow\n",
      "dtype: object\n",
      "\n",
      "Backward Fill:\n",
      "0      blue\n",
      "1    purple\n",
      "2    purple\n",
      "3    yellow\n",
      "4    yellow\n",
      "5       NaN\n",
      "dtype: object\n"
     ]
    }
   ],
   "source": [
    "df3 = pd.Series(['blue', 'purple', 'yellow'], index=[0, 2, 4])\n",
    "print('original:\\n', df3, '\\n', sep='')\n",
    "\n",
    "# can fill in missing rows using reindex()\n",
    "df3 = df3.reindex(np.arange(6))\n",
    "print('reindex to create missing rows:\\n', df3, '\\n', sep='')\n",
    "\n",
    "# Fill missing values with forward fill\n",
    "# ffill(): specified value carried forward to NaNs after it\n",
    "ff = df3.ffill()\n",
    "\n",
    "# Fill missing values with backward fill\n",
    "# bfill(): specified value carried back to NaNs before it\n",
    "bf = df3.bfill()\n",
    "\n",
    "print('Forward Fill:', ff, '\\nBackward Fill:', bf, sep='\\n')"
   ]
  },
  {
   "cell_type": "markdown",
   "id": "f678f1e9",
   "metadata": {},
   "source": [
    "#### Exercise 3: Reindex Columns"
   ]
  },
  {
   "cell_type": "code",
   "execution_count": 21,
   "id": "dd40b8c3",
   "metadata": {},
   "outputs": [
    {
     "name": "stdout",
     "output_type": "stream",
     "text": [
      "   Coffee  Tea  Soda\n",
      "a       0    1     2\n",
      "b       3    4     5\n",
      "c       6    7     8 \n",
      "\n",
      "Reindexed Columns:\n",
      "   Tea  Seltzer  Coffee\n",
      "a    1      NaN       0\n",
      "b    4      NaN       3\n",
      "c    7      NaN       6\n"
     ]
    }
   ],
   "source": [
    "df4 = pd.DataFrame(np.arange(9).reshape((3,3)),\\\n",
    "                   index=['a','b','c'],\\\n",
    "                   columns=['Coffee', 'Tea', 'Soda'])\n",
    "print(df4, '\\n')\n",
    "\n",
    "# Reindex Columns\n",
    "df4 = df4.reindex(columns = ['Tea', 'Seltzer', 'Coffee'])\n",
    "print('Reindexed Columns:\\n', df4, sep='')"
   ]
  },
  {
   "cell_type": "markdown",
   "id": "65a1e808",
   "metadata": {},
   "source": [
    "### Drop"
   ]
  },
  {
   "cell_type": "markdown",
   "id": "78997f5b",
   "metadata": {},
   "source": [
    "#### Exercise 1: Dropping Entries from Axis for Series and DataFrame"
   ]
  },
  {
   "cell_type": "code",
   "execution_count": 22,
   "id": "f03d4522",
   "metadata": {},
   "outputs": [
    {
     "name": "stdout",
     "output_type": "stream",
     "text": [
      "Series:\n",
      "john      1\n",
      "george    2\n",
      "ringo     3\n",
      "paul      4\n",
      "billy     5\n",
      "dtype: int64\n",
      "\n",
      "  Drop a row:\n",
      "john      1\n",
      "george    2\n",
      "ringo     3\n",
      "paul      4\n",
      "dtype: int64\n",
      "\n",
      "\n",
      "DataFrame:\n",
      "         songs  albums  instruments  platinums\n",
      "paul        0       1            2          3\n",
      "george      4       5            6          7\n",
      "john        8       9           10         11\n",
      "ringo      12      13           14         15\n",
      "billy      16      17           18         19 \n",
      "\n",
      "  Drop a Row:\n",
      "         songs  albums  instruments  platinums\n",
      "paul        0       1            2          3\n",
      "george      4       5            6          7\n",
      "john        8       9           10         11\n",
      "ringo      12      13           14         15 \n",
      "\n",
      "  Drop a Column:\n",
      "         albums  instruments  platinums\n",
      "paul         1            2          3\n",
      "george       5            6          7\n",
      "john         9           10         11\n",
      "ringo       13           14         15\n"
     ]
    }
   ],
   "source": [
    "# For a Series\n",
    "beatles = pd.Series(np.arange(1,6),\\\n",
    "                    index=['john', 'george','ringo', 'paul', 'billy'])\n",
    "print('Series:\\n', beatles, sep='')\n",
    "print()\n",
    "\n",
    "beatles = beatles.drop('billy')\n",
    "print('  Drop a row:\\n', beatles, '\\n', sep='')\n",
    "\n",
    "\n",
    "# For a DataFrame\n",
    "bobbles = pd.DataFrame(np.arange(20).reshape((5,4)),\\\n",
    "                       index=['paul', 'george', 'john', 'ringo', 'billy'],\n",
    "                       columns=['songs', 'albums', 'instruments',\\\n",
    "                                'platinums'])\n",
    "print('\\nDataFrame:\\n', bobbles, '\\n')\n",
    "\n",
    "# drop a row\n",
    "bobbles = bobbles.drop('billy')\n",
    "print('  Drop a Row:\\n', bobbles, '\\n')\n",
    "\n",
    "# drop a column in place (no copy)\n",
    "bobbles.drop('songs', axis='columns', inplace=True) # can also use axis=1\n",
    "print('  Drop a Column:\\n', bobbles)"
   ]
  },
  {
   "cell_type": "markdown",
   "id": "770ee2bc",
   "metadata": {},
   "source": [
    "### Indexing, Selection, and Filtering"
   ]
  },
  {
   "cell_type": "markdown",
   "id": "386eafdb",
   "metadata": {},
   "source": [
    "#### Exercise 1: DataFrame Indexing "
   ]
  },
  {
   "cell_type": "code",
   "execution_count": 23,
   "id": "96f380db",
   "metadata": {},
   "outputs": [
    {
     "name": "stdout",
     "output_type": "stream",
     "text": [
      "original:\n",
      " a    10\n",
      "b    11\n",
      "c    12\n",
      "d    13\n",
      "dtype: int64\n",
      "\n",
      "Indexing:\n",
      "12\n",
      "12\n",
      "\n",
      "Slicing:\n",
      "b    11\n",
      "c    12\n",
      "dtype: int64 \n",
      "\n",
      "b    11\n",
      "c    12\n",
      "d    13\n",
      "dtype: int64\n",
      "\n",
      "Mult. Values:\n",
      " d    13\n",
      "b    11\n",
      "dtype: int64\n",
      "\n",
      "Conditional:\n",
      " a    10\n",
      "b    11\n",
      "dtype: int64\n"
     ]
    }
   ],
   "source": [
    "df1 = pd.Series(np.arange(10,14), index=['a', 'b', 'c', 'd'])\n",
    "print('original:\\n', df1)\n",
    "\n",
    "# Multiple ways to index same value\n",
    "print('\\nIndexing:')\n",
    "print(df1['c'])\n",
    "print(df1[2])\n",
    "\n",
    "# Slicing\n",
    "print('\\nSlicing:')\n",
    "print(df1[1:3], '\\n')\n",
    "print(df1['b':'d']) # inclusive of upper-bound\n",
    "\n",
    "# Index Multiple Values at once\n",
    "print()\n",
    "print('Mult. Values:\\n', df1[[3,1]])\n",
    "\n",
    "# Conditional Indexing\n",
    "print()\n",
    "print('Conditional:\\n', df1[df1<12])"
   ]
  },
  {
   "cell_type": "markdown",
   "id": "2179fbd2",
   "metadata": {},
   "source": [
    "#### Exercise 2: Selection and Filtering"
   ]
  },
  {
   "cell_type": "code",
   "execution_count": 24,
   "id": "d9dd31a7",
   "metadata": {},
   "outputs": [
    {
     "name": "stdout",
     "output_type": "stream",
     "text": [
      "original:\n",
      "           one  two  three  four\n",
      "Ohio        0    1      2     3\n",
      "Colorado    4    5      6     7\n",
      "Utah        8    9     10    11\n",
      "New York   12   13     14    15\n",
      "\n",
      "          two  one\n",
      "Ohio        1    0\n",
      "Colorado    5    4\n",
      "Utah        9    8\n",
      "New York   13   12\n",
      "\n",
      "          one  two  three  four\n",
      "Ohio        0    1      2     3\n",
      "Colorado    4    5      6     7\n",
      "\n",
      "\n",
      "Ohio         True\n",
      "Colorado     True\n",
      "Utah        False\n",
      "New York    False\n",
      "Name: four, dtype: bool\n",
      "\n",
      "\n",
      "          one  two  three  four\n",
      "Ohio       -1   -1     -1    -1\n",
      "Colorado   -1   -1      6     7\n",
      "Utah        8    9     10    11\n",
      "New York   12   13     14    15\n"
     ]
    }
   ],
   "source": [
    "df2 = pd.DataFrame(np.arange(16).reshape((4, 4)),\n",
    "                    index=['Ohio', 'Colorado', 'Utah', 'New York'],\n",
    "                    columns=['one', 'two', 'three', 'four'])\n",
    "print('original:\\n', df2)\n",
    "\n",
    "# Selection\n",
    "print()\n",
    "print(df2[['two', 'one']])\n",
    "print()\n",
    "print(df2[:2]) # special cases\n",
    "print()\n",
    "\n",
    "# Filtering\n",
    "print()\n",
    "print(df2['four'] < 8)\n",
    "print()\n",
    "\n",
    "# Changing Values via Filter\n",
    "print()\n",
    "df2[df2<6] = -1\n",
    "print(df2)"
   ]
  },
  {
   "cell_type": "markdown",
   "id": "d7cacb46",
   "metadata": {},
   "source": [
    "#### Exercise 3: Selction using loc and iloc"
   ]
  },
  {
   "cell_type": "code",
   "execution_count": 27,
   "id": "c3a74119",
   "metadata": {},
   "outputs": [
    {
     "name": "stdout",
     "output_type": "stream",
     "text": [
      "original:\n",
      "           one  two  three  four\n",
      "Ohio        0    1      2     3\n",
      "Colorado    4    5      6     7\n",
      "Utah        8    9     10    11\n",
      "New York   12   13     14    15\n",
      "\n",
      "Using loc():\n",
      "\n",
      "one      12\n",
      "two      13\n",
      "three    14\n",
      "four     15\n",
      "Name: New York, dtype: int64 \n",
      "\n",
      "one     12\n",
      "four    15\n",
      "Name: New York, dtype: int64 \n",
      "\n",
      "\n",
      "Using iloc():\n",
      "\n",
      "one      4\n",
      "two      5\n",
      "three    6\n",
      "four     7\n",
      "Name: Colorado, dtype: int64 \n",
      "\n",
      "two     5\n",
      "four    7\n",
      "Name: Colorado, dtype: int64 \n",
      "\n",
      "          two  three\n",
      "Colorado    5      6\n",
      "Utah        9     10 \n",
      "\n"
     ]
    }
   ],
   "source": [
    "# loc(): uses axis labels\n",
    "# iloc(): uses integer index\n",
    "\n",
    "df2 = pd.DataFrame(np.arange(16).reshape((4, 4)),\n",
    "                    index=['Ohio', 'Colorado', 'Utah', 'New York'],\n",
    "                    columns=['one', 'two', 'three', 'four'])\n",
    "print('original:\\n', df2)\n",
    "\n",
    "# Using loc()\n",
    "print('\\nUsing loc():\\n')\n",
    "print(df2.loc['New York'], '\\n')\n",
    "print(df2.loc['New York', ['one', 'four']], '\\n')\n",
    "\n",
    "# Using iloc():\n",
    "print('\\nUsing iloc():\\n')\n",
    "print(df2.iloc[1], '\\n') # read out columns\n",
    "print(df2.iloc[1, [1,3]], '\\n') # read out rows from a column\n",
    "print(df2.iloc[[1,2], [1,2]], '\\n') # read rows from mult. columns"
   ]
  },
  {
   "cell_type": "markdown",
   "id": "e323613c",
   "metadata": {},
   "source": [
    "## Applying Functions and Mapping"
   ]
  },
  {
   "cell_type": "markdown",
   "id": "ed6007ab",
   "metadata": {},
   "source": [
    "### Applying Functions"
   ]
  },
  {
   "cell_type": "markdown",
   "id": "3734f3cf",
   "metadata": {},
   "source": [
    "Can apply functions for a dataframe and map the contents of a dataframe to new values."
   ]
  },
  {
   "cell_type": "markdown",
   "id": "383467a6",
   "metadata": {},
   "source": [
    "#### Exercise 1: Applying Functions on 1-D Arrays"
   ]
  },
  {
   "cell_type": "code",
   "execution_count": 40,
   "id": "60eaec5a",
   "metadata": {},
   "outputs": [
    {
     "name": "stdout",
     "output_type": "stream",
     "text": [
      "               a         b         c\n",
      "Utah   -0.239669  0.143308  0.253816\n",
      "Ohio    0.283725 -1.411889 -1.876869\n",
      "Texas  -1.019655  0.167942  0.553856\n",
      "Oregon -0.530675  1.377257 -0.143176 \n",
      "\n",
      "Using the np.abs() function:\n",
      "               a         b         c\n",
      "Utah    0.239669  0.143308  0.253816\n",
      "Ohio    0.283725  1.411889  1.876869\n",
      "Texas   1.019655  0.167942  0.553856\n",
      "Oregon  0.530675  1.377257  0.143176 \n",
      "\n",
      "Using apply() on DataFrame:\n",
      "                 a          b          c\n",
      "Utah     9.760331  10.143308  10.253816\n",
      "Ohio    10.283725   8.588111   8.123131\n",
      "Texas    8.980345  10.167942  10.553856\n",
      "Oregon   9.469325  11.377257   9.856824\n",
      "\n",
      "\n",
      "Series:\n",
      "0    0\n",
      "1    1\n",
      "2    2\n",
      "3    3\n",
      "4    4\n",
      "5    5\n",
      "dtype: int64\n",
      "\n",
      "Using apply():\n",
      "0    10\n",
      "1    11\n",
      "2    12\n",
      "3    13\n",
      "4    14\n",
      "5    15\n",
      "dtype: int64\n"
     ]
    }
   ],
   "source": [
    "df1 = pd.DataFrame(np.random.randn(4, 3), columns=list('abc'),\n",
    "                     index=['Utah', 'Ohio', 'Texas', 'Oregon'])\n",
    "print(df1, '\\n')\n",
    "\n",
    "print('Using the np.abs() function:')\n",
    "print(np.abs(df1), '\\n')\n",
    "\n",
    "\n",
    "# Using pd.Series.apply() to apply a function\n",
    "\n",
    "# DataFrame\n",
    "def add_ten(a):\n",
    "    return a+10\n",
    "\n",
    "print('Using apply() on DataFrame:\\n', df1.apply(add_ten))\n",
    "\n",
    "\n",
    "# Series MUST BE 1-D!\n",
    "a = pd.Series(np.arange(6))\n",
    "print('\\n\\nSeries:\\n', a, '\\n', sep='')\n",
    "print('Using apply():\\n', a.apply(add_ten), sep='')"
   ]
  },
  {
   "cell_type": "markdown",
   "id": "202784dd",
   "metadata": {},
   "source": [
    "#### Exercise 2: More apply( )"
   ]
  },
  {
   "cell_type": "code",
   "execution_count": 48,
   "id": "a555180e",
   "metadata": {},
   "outputs": [
    {
     "name": "stdout",
     "output_type": "stream",
     "text": [
      "               a         b         c\n",
      "Utah    0.000000  0.143308  0.253816\n",
      "Ohio    0.283725  0.000000  0.000000\n",
      "Texas   0.000000  0.167942  0.553856\n",
      "Oregon  0.000000  1.000000  0.000000\n",
      "\n",
      "Utah      0.493485\n",
      "Ohio      2.160594\n",
      "Texas     1.573511\n",
      "Oregon    1.907932\n",
      "dtype: float64\n",
      "\n",
      "             a         b         c\n",
      "min -1.019655 -1.411889 -1.876869\n",
      "max  0.283725  1.377257  0.553856 \n",
      "\n"
     ]
    }
   ],
   "source": [
    "# Clip the values of df1 to fall within [0,1]\n",
    "df_test = df1.apply(lambda x: x.clip(0,1))\n",
    "print(df_test)\n",
    "\n",
    "# Apply to one axis\n",
    "df_test = df1.apply(lambda x: x.max()-x.min(), axis='columns')\n",
    "print('\\n', df_test, sep='')\n",
    "\n",
    "# Apply to multiple values along axis\n",
    "df_test = df1.apply(lambda x: pd.Series([x.min(), x.max()],\\\n",
    "                                       index=['min', 'max']))\n",
    "print('\\n', df_test, '\\n')"
   ]
  },
  {
   "cell_type": "markdown",
   "id": "39b63100",
   "metadata": {},
   "source": [
    "## Sorting"
   ]
  },
  {
   "cell_type": "markdown",
   "id": "72f2f143",
   "metadata": {},
   "source": [
    "Use sort_index() or sort_values() functions to sort elements in a series or dataframe."
   ]
  },
  {
   "cell_type": "markdown",
   "id": "00e54f09",
   "metadata": {},
   "source": [
    "#### Exercise 1: Sorting a Series"
   ]
  },
  {
   "cell_type": "code",
   "execution_count": 52,
   "id": "649da6da",
   "metadata": {},
   "outputs": [
    {
     "name": "stdout",
     "output_type": "stream",
     "text": [
      "original:\n",
      "carrots    2\n",
      "apples     3\n",
      "bananas    4\n",
      "dtype: int64\n",
      "\n",
      "sort_index():\n",
      "apples     3\n",
      "bananas    4\n",
      "carrots    2\n",
      "dtype: int64\n",
      "\n",
      "sort_values():\n",
      "carrots    2\n",
      "apples     3\n",
      "bananas    4\n",
      "dtype: int64\n",
      "\n"
     ]
    }
   ],
   "source": [
    "shop = pd.Series(np.arange(2,7),\\\n",
    "                 index=['carrots', 'apples', 'bananas'])\n",
    "print('original:\\n', shop, '\\n', sep='')\n",
    "\n",
    "# Sort by index\n",
    "shop = shop.sort_index()\n",
    "print('sort_index():\\n', shop, '\\n', sep='')\n",
    "\n",
    "# Sort by value\n",
    "shop = shop.sort_values()\n",
    "print('sort_values():\\n', shop, '\\n', sep='')"
   ]
  },
  {
   "cell_type": "markdown",
   "id": "ffbd8b4b",
   "metadata": {},
   "source": [
    "#### Exercise 2: Sorting a DataFrame "
   ]
  },
  {
   "cell_type": "code",
   "execution_count": 60,
   "id": "789a7420",
   "metadata": {},
   "outputs": [
    {
     "name": "stdout",
     "output_type": "stream",
     "text": [
      "        tom  jerry\n",
      "wins      0      1\n",
      "losses    2      3\n",
      "draws     4      5 \n",
      "\n",
      "Sort by index:\n",
      "        tom  jerry\n",
      "draws     4      5\n",
      "losses    2      3\n",
      "wins      0      1\n",
      "\n",
      "sort by index and axis:\n",
      "        jerry  tom\n",
      "draws       5    4\n",
      "losses      3    2\n",
      "wins        1    0\n",
      "\n",
      "Sort by value:\n",
      "        jerry  tom\n",
      "wins        1    0\n",
      "losses      3    2\n",
      "draws       5    4\n",
      "\n"
     ]
    }
   ],
   "source": [
    "df1 = pd.DataFrame(np.arange(6).reshape(3,2),\\\n",
    "                   index=['wins', 'losses', 'draws'],\\\n",
    "                   columns=['tom', 'jerry'])\n",
    "print(df1, '\\n')\n",
    "\n",
    "# Sort by index\n",
    "df1 = df1.sort_index()\n",
    "print('Sort by index:\\n', df1, '\\n', sep='')\n",
    "\n",
    "\n",
    "# Sort by index and axis\n",
    "df1 = df1.sort_index(axis=1)\n",
    "print('sort by index and axis:\\n', df1, '\\n', sep='')\n",
    "\n",
    "\n",
    "# Sort by Value, needs value parameter\n",
    "df1 = df1.sort_values(by='jerry', ascending=True)\n",
    "print('Sort by value:\\n', df1, '\\n', sep='')"
   ]
  },
  {
   "cell_type": "markdown",
   "id": "a7099c8e",
   "metadata": {},
   "source": [
    "### Axis Indices with Duplicate Labels"
   ]
  },
  {
   "cell_type": "markdown",
   "id": "7066d350",
   "metadata": {},
   "source": [
    "#### Exercise 1: Series"
   ]
  },
  {
   "cell_type": "code",
   "execution_count": 63,
   "id": "bf31cb89",
   "metadata": {},
   "outputs": [
    {
     "name": "stdout",
     "output_type": "stream",
     "text": [
      "b    0\n",
      "a    1\n",
      "c    2\n",
      "b    3\n",
      "a    4\n",
      "dtype: int64\n",
      "\n",
      "b    0\n",
      "b    3\n",
      "dtype: int64\n",
      "\n",
      "Unique indices = False\n"
     ]
    }
   ],
   "source": [
    "a = pd.Series(np.arange(5), index=['b','a','c','b','a'])\n",
    "print(a)\n",
    "print()\n",
    "\n",
    "# Check for duplicates\n",
    "print(a['b'])\n",
    "print()\n",
    "print('Unique indices =', a.index.is_unique)"
   ]
  },
  {
   "cell_type": "markdown",
   "id": "904732cf",
   "metadata": {},
   "source": [
    "#### Exercise 2: DataFrame"
   ]
  },
  {
   "cell_type": "code",
   "execution_count": 68,
   "id": "2e309426",
   "metadata": {},
   "outputs": [
    {
     "name": "stdout",
     "output_type": "stream",
     "text": [
      "    0   1   2\n",
      "a  77  63  73\n",
      "b  85  61  81\n",
      "a  89  66  86\n",
      "b  89  77  81\n",
      "\n",
      "    0   1   2\n",
      "a  77  63  73\n",
      "a  89  66  86 \n",
      "\n",
      "Unique indices = False\n"
     ]
    }
   ],
   "source": [
    "df1 = pd.DataFrame(np.random.randint(60,90, (4,3)),\\\n",
    "                   index=['a','b','a','b'])\n",
    "print(df1)\n",
    "print()\n",
    "\n",
    "# Check for duplicates\n",
    "print(df1.loc['a'],'\\n')\n",
    "print('Unique indices =', df1.index.is_unique)"
   ]
  },
  {
   "cell_type": "markdown",
   "id": "a39e7084",
   "metadata": {},
   "source": [
    "## Descriptive Statistics"
   ]
  },
  {
   "cell_type": "markdown",
   "id": "25525be2",
   "metadata": {},
   "source": [
    "#### Exercise 1: idxmax, idxmin"
   ]
  },
  {
   "cell_type": "markdown",
   "id": "9bfaa5ed",
   "metadata": {},
   "source": [
    "#### Exercise 2: argmax, argmin (Series)"
   ]
  },
  {
   "cell_type": "markdown",
   "id": "515c6b02",
   "metadata": {},
   "source": [
    "#### Exercise 3: Accumulations"
   ]
  },
  {
   "cell_type": "markdown",
   "id": "36090624",
   "metadata": {},
   "source": [
    "### Unique Values and Value Counts"
   ]
  }
 ],
 "metadata": {
  "kernelspec": {
   "display_name": "Python 3 (ipykernel)",
   "language": "python",
   "name": "python3"
  },
  "language_info": {
   "codemirror_mode": {
    "name": "ipython",
    "version": 3
   },
   "file_extension": ".py",
   "mimetype": "text/x-python",
   "name": "python",
   "nbconvert_exporter": "python",
   "pygments_lexer": "ipython3",
   "version": "3.9.12"
  }
 },
 "nbformat": 4,
 "nbformat_minor": 5
}
