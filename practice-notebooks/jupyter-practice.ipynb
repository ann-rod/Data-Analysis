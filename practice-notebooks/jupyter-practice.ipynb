{
 "cells": [
  {
   "cell_type": "markdown",
   "id": "88c0f9bc",
   "metadata": {},
   "source": [
    "# Jupyter Notebook Demo #"
   ]
  },
  {
   "cell_type": "markdown",
   "id": "9cbce236",
   "metadata": {},
   "source": [
    "## This is a practice demo to learn how to use Jupyter Notebooks."
   ]
  },
  {
   "cell_type": "markdown",
   "id": "c0546581",
   "metadata": {},
   "source": [
    "Using Code:"
   ]
  },
  {
   "cell_type": "code",
   "execution_count": 2,
   "id": "0be74413",
   "metadata": {},
   "outputs": [
    {
     "name": "stdout",
     "output_type": "stream",
     "text": [
      "Hello, World!\n"
     ]
    }
   ],
   "source": [
    "def main():\n",
    "    print('Hello, World!')\n",
    "    \n",
    "    \n",
    "    \n",
    "if __name__ == '__main__':\n",
    "    main()"
   ]
  }
 ],
 "metadata": {
  "kernelspec": {
   "display_name": "Python 3 (ipykernel)",
   "language": "python",
   "name": "python3"
  },
  "language_info": {
   "codemirror_mode": {
    "name": "ipython",
    "version": 3
   },
   "file_extension": ".py",
   "mimetype": "text/x-python",
   "name": "python",
   "nbconvert_exporter": "python",
   "pygments_lexer": "ipython3",
   "version": "3.9.12"
  }
 },
 "nbformat": 4,
 "nbformat_minor": 5
}
