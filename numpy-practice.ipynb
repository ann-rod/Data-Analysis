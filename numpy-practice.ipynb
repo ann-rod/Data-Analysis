{
 "cells": [
  {
   "cell_type": "markdown",
   "id": "8cf9f028",
   "metadata": {},
   "source": [
    "# Numpy Practice\n",
    "\n",
    "This section will go over exercises using numpy."
   ]
  },
  {
   "cell_type": "markdown",
   "id": "e43267ce",
   "metadata": {},
   "source": [
    "## Array Creation Basics"
   ]
  },
  {
   "cell_type": "markdown",
   "id": "fb881c18",
   "metadata": {},
   "source": [
    "### Exercise 0: help() Function"
   ]
  },
  {
   "cell_type": "code",
   "execution_count": 1,
   "id": "094d29ed",
   "metadata": {},
   "outputs": [
    {
     "name": "stdout",
     "output_type": "stream",
     "text": [
      "Help on built-in function array in module numpy:\n",
      "\n",
      "array(...)\n",
      "    array(object, dtype=None, *, copy=True, order='K', subok=False, ndmin=0,\n",
      "          like=None)\n",
      "    \n",
      "    Create an array.\n",
      "    \n",
      "    Parameters\n",
      "    ----------\n",
      "    object : array_like\n",
      "        An array, any object exposing the array interface, an object whose\n",
      "        __array__ method returns an array, or any (nested) sequence.\n",
      "    dtype : data-type, optional\n",
      "        The desired data-type for the array.  If not given, then the type will\n",
      "        be determined as the minimum type required to hold the objects in the\n",
      "        sequence.\n",
      "    copy : bool, optional\n",
      "        If true (default), then the object is copied.  Otherwise, a copy will\n",
      "        only be made if __array__ returns a copy, if obj is a nested sequence,\n",
      "        or if a copy is needed to satisfy any of the other requirements\n",
      "        (`dtype`, `order`, etc.).\n",
      "    order : {'K', 'A', 'C', 'F'}, optional\n",
      "        Specify the memory layout of the array. If object is not an array, the\n",
      "        newly created array will be in C order (row major) unless 'F' is\n",
      "        specified, in which case it will be in Fortran order (column major).\n",
      "        If object is an array the following holds.\n",
      "    \n",
      "        ===== ========= ===================================================\n",
      "        order  no copy                     copy=True\n",
      "        ===== ========= ===================================================\n",
      "        'K'   unchanged F & C order preserved, otherwise most similar order\n",
      "        'A'   unchanged F order if input is F and not C, otherwise C order\n",
      "        'C'   C order   C order\n",
      "        'F'   F order   F order\n",
      "        ===== ========= ===================================================\n",
      "    \n",
      "        When ``copy=False`` and a copy is made for other reasons, the result is\n",
      "        the same as if ``copy=True``, with some exceptions for 'A', see the\n",
      "        Notes section. The default order is 'K'.\n",
      "    subok : bool, optional\n",
      "        If True, then sub-classes will be passed-through, otherwise\n",
      "        the returned array will be forced to be a base-class array (default).\n",
      "    ndmin : int, optional\n",
      "        Specifies the minimum number of dimensions that the resulting\n",
      "        array should have.  Ones will be pre-pended to the shape as\n",
      "        needed to meet this requirement.\n",
      "    like : array_like\n",
      "        Reference object to allow the creation of arrays which are not\n",
      "        NumPy arrays. If an array-like passed in as ``like`` supports\n",
      "        the ``__array_function__`` protocol, the result will be defined\n",
      "        by it. In this case, it ensures the creation of an array object\n",
      "        compatible with that passed in via this argument.\n",
      "    \n",
      "        .. versionadded:: 1.20.0\n",
      "    \n",
      "    Returns\n",
      "    -------\n",
      "    out : ndarray\n",
      "        An array object satisfying the specified requirements.\n",
      "    \n",
      "    See Also\n",
      "    --------\n",
      "    empty_like : Return an empty array with shape and type of input.\n",
      "    ones_like : Return an array of ones with shape and type of input.\n",
      "    zeros_like : Return an array of zeros with shape and type of input.\n",
      "    full_like : Return a new array with shape of input filled with value.\n",
      "    empty : Return a new uninitialized array.\n",
      "    ones : Return a new array setting values to one.\n",
      "    zeros : Return a new array setting values to zero.\n",
      "    full : Return a new array of given shape filled with value.\n",
      "    \n",
      "    \n",
      "    Notes\n",
      "    -----\n",
      "    When order is 'A' and `object` is an array in neither 'C' nor 'F' order,\n",
      "    and a copy is forced by a change in dtype, then the order of the result is\n",
      "    not necessarily 'C' as expected. This is likely a bug.\n",
      "    \n",
      "    Examples\n",
      "    --------\n",
      "    >>> np.array([1, 2, 3])\n",
      "    array([1, 2, 3])\n",
      "    \n",
      "    Upcasting:\n",
      "    \n",
      "    >>> np.array([1, 2, 3.0])\n",
      "    array([ 1.,  2.,  3.])\n",
      "    \n",
      "    More than one dimension:\n",
      "    \n",
      "    >>> np.array([[1, 2], [3, 4]])\n",
      "    array([[1, 2],\n",
      "           [3, 4]])\n",
      "    \n",
      "    Minimum dimensions 2:\n",
      "    \n",
      "    >>> np.array([1, 2, 3], ndmin=2)\n",
      "    array([[1, 2, 3]])\n",
      "    \n",
      "    Type provided:\n",
      "    \n",
      "    >>> np.array([1, 2, 3], dtype=complex)\n",
      "    array([ 1.+0.j,  2.+0.j,  3.+0.j])\n",
      "    \n",
      "    Data-type consisting of more than one element:\n",
      "    \n",
      "    >>> x = np.array([(1,2),(3,4)],dtype=[('a','<i4'),('b','<i4')])\n",
      "    >>> x['a']\n",
      "    array([1, 3])\n",
      "    \n",
      "    Creating an array from sub-classes:\n",
      "    \n",
      "    >>> np.array(np.mat('1 2; 3 4'))\n",
      "    array([[1, 2],\n",
      "           [3, 4]])\n",
      "    \n",
      "    >>> np.array(np.mat('1 2; 3 4'), subok=True)\n",
      "    matrix([[1, 2],\n",
      "            [3, 4]])\n",
      "\n"
     ]
    }
   ],
   "source": [
    "import numpy as np\n",
    "\n",
    "# For documentation on each function, use:\n",
    "# help(np.functionName)\n",
    "\n",
    "help(np.array)\n",
    "\n",
    "# other functions include: arange, linspace, logspace, mat, diag, etc.\n",
    "# These functions are called 'routines'."
   ]
  },
  {
   "cell_type": "markdown",
   "id": "e5c6385c",
   "metadata": {},
   "source": [
    "### Exercise 1: Create an Array (using arange and a list)"
   ]
  },
  {
   "cell_type": "code",
   "execution_count": 2,
   "id": "40ee7909",
   "metadata": {},
   "outputs": [
    {
     "name": "stdout",
     "output_type": "stream",
     "text": [
      "a:\n",
      " [0 1 2 3 4 5 6 7 8 9] \n",
      "\n",
      "b:\n",
      " [[ 7  8  9]\n",
      " [10 11 12]] \n",
      "\n",
      "c:\n",
      " [3.5 4.  4.5 5.  5.5]\n"
     ]
    }
   ],
   "source": [
    "a = np.arange(10)\n",
    "b = np.array([[7,8,9], [10,11,12]])\n",
    "c = np.arange(3.5,6.0, .5)\n",
    "\n",
    "print('a:\\n', a, '\\n')\n",
    "print('b:\\n', b, '\\n')\n",
    "print('c:\\n', c)\n",
    "\n",
    "# for documentation on each function, use:\n",
    "# help(np.functionName)"
   ]
  },
  {
   "cell_type": "markdown",
   "id": "ca1c55ac",
   "metadata": {},
   "source": [
    "Using *arange* similar to using *range*.\n",
    "\n",
    "You can also add create an array using a list."
   ]
  },
  {
   "cell_type": "markdown",
   "id": "21fe0f2a",
   "metadata": {},
   "source": [
    "### Exercise 2: Reshaping Arrays"
   ]
  },
  {
   "cell_type": "markdown",
   "id": "df69a5f5",
   "metadata": {},
   "source": [
    "Can *reshape* an object by specifying (numColumns, numRows) in the command.\n",
    "\n"
   ]
  },
  {
   "cell_type": "code",
   "execution_count": 3,
   "id": "fcf5b958",
   "metadata": {},
   "outputs": [
    {
     "name": "stdout",
     "output_type": "stream",
     "text": [
      "a: \n",
      " [[0 1 2 3 4]\n",
      " [5 6 7 8 9]] \n",
      "\n",
      "b: \n",
      " [[ 7  8]\n",
      " [ 9 10]\n",
      " [11 12]]\n"
     ]
    }
   ],
   "source": [
    "a = a.reshape(2, 5)\n",
    "b = b.reshape(3,2)\n",
    "\n",
    "print('a: \\n', a, '\\n')\n",
    "print('b: \\n', b)"
   ]
  },
  {
   "cell_type": "markdown",
   "id": "78d96e2f",
   "metadata": {},
   "source": [
    "Object a has been changed into a 5x2 matrix, and b into a 2x3 matrix.\n"
   ]
  },
  {
   "cell_type": "code",
   "execution_count": 4,
   "id": "eedd03f5",
   "metadata": {},
   "outputs": [
    {
     "name": "stdout",
     "output_type": "stream",
     "text": [
      "[[0 1]\n",
      " [2 3]\n",
      " [4 5]\n",
      " [6 7]\n",
      " [8 9]]\n"
     ]
    }
   ],
   "source": [
    "a = a.reshape(5,2)\n",
    "print(a)"
   ]
  },
  {
   "cell_type": "markdown",
   "id": "523fd21f",
   "metadata": {},
   "source": [
    "Now a is a 2x5 matrix.\n"
   ]
  },
  {
   "cell_type": "markdown",
   "id": "c8ecb11b",
   "metadata": {},
   "source": [
    "### Exercise 3: Dimensions, Shape, and Type, Size"
   ]
  },
  {
   "cell_type": "code",
   "execution_count": 5,
   "id": "4eb1002a",
   "metadata": {},
   "outputs": [
    {
     "name": "stdout",
     "output_type": "stream",
     "text": [
      "Information on a:\n",
      "\n",
      "Num. Dimensions: 2\n",
      "Shape: (5, 2)\n",
      "Type: <class 'numpy.ndarray'>\n",
      "Contents Type: int64\n",
      "Size of a: 10\n"
     ]
    }
   ],
   "source": [
    "print('Information on a:\\n')\n",
    "\n",
    "print('Num. Dimensions:', a.ndim)\n",
    "print('Shape:', a.shape)\n",
    "print('Type:', type(a))\n",
    "print('Contents Type:', a.dtype)\n",
    "print('Size of a:', a.size)\n"
   ]
  },
  {
   "cell_type": "markdown",
   "id": "7ebe68fe",
   "metadata": {},
   "source": [
    "### Exercise 4: Bytes"
   ]
  },
  {
   "cell_type": "code",
   "execution_count": 6,
   "id": "14e70a4f",
   "metadata": {},
   "outputs": [
    {
     "name": "stdout",
     "output_type": "stream",
     "text": [
      "Bytes per Elements: 8\n",
      "Bytes of Entire Array: 80\n"
     ]
    }
   ],
   "source": [
    "print('Bytes per Elements:', a.itemsize)\n",
    "print('Bytes of Entire Array:', a.nbytes)"
   ]
  },
  {
   "cell_type": "markdown",
   "id": "91c74a47",
   "metadata": {},
   "source": [
    "### Exercise 5: Array of Booleans"
   ]
  },
  {
   "cell_type": "code",
   "execution_count": 7,
   "id": "11be4701",
   "metadata": {},
   "outputs": [
    {
     "name": "stdout",
     "output_type": "stream",
     "text": [
      "Type: bool\n"
     ]
    }
   ],
   "source": [
    "c = np.array([False, False, True, True], dtype=bool)\n",
    "print('Type:', c.dtype)"
   ]
  },
  {
   "cell_type": "raw",
   "id": "e7361cb0",
   "metadata": {},
   "source": [
    "Can set the type of the data by using *dtype=type* at the end."
   ]
  },
  {
   "cell_type": "markdown",
   "id": "ec4ca3d2",
   "metadata": {},
   "source": [
    "### Exercise 6: Array Using linspace()"
   ]
  },
  {
   "cell_type": "code",
   "execution_count": 8,
   "id": "68c345bc",
   "metadata": {},
   "outputs": [
    {
     "data": {
      "text/plain": [
       "array([1. , 1.4, 1.8, 2.2, 2.6, 3. ])"
      ]
     },
     "execution_count": 8,
     "metadata": {},
     "output_type": "execute_result"
    }
   ],
   "source": [
    "# creates an evenly spaced array of a given number of items.\n",
    "# linspace(start, stop, numberOfItems) where start and stop are inclusive.\n",
    "np.linspace(1,3,num=6)"
   ]
  },
  {
   "cell_type": "code",
   "execution_count": 9,
   "id": "41c0170a",
   "metadata": {},
   "outputs": [
    {
     "data": {
      "text/plain": [
       "array([1.        , 1.33333333, 1.66666667, 2.        , 2.33333333,\n",
       "       2.66666667])"
      ]
     },
     "execution_count": 9,
     "metadata": {},
     "output_type": "execute_result"
    }
   ],
   "source": [
    "# endpoint=False -> excludes the upper bound from the calculation.\n",
    "np.linspace(1,3,num=6, endpoint=False)"
   ]
  },
  {
   "cell_type": "code",
   "execution_count": 10,
   "id": "56cce445",
   "metadata": {},
   "outputs": [
    {
     "data": {
      "text/plain": [
       "(array([1. , 1.4, 1.8, 2.2, 2.6, 3. ]), 0.4)"
      ]
     },
     "execution_count": 10,
     "metadata": {},
     "output_type": "execute_result"
    }
   ],
   "source": [
    "# retstep=True -> returns the step value as well as the array in a list.\n",
    "np.linspace(1,3,num=6,retstep=True)"
   ]
  },
  {
   "cell_type": "markdown",
   "id": "535e5afe",
   "metadata": {},
   "source": [
    "## Array Operations"
   ]
  },
  {
   "cell_type": "markdown",
   "id": "5e3dc55d",
   "metadata": {},
   "source": [
    "### Exercise 1: Addition"
   ]
  },
  {
   "cell_type": "code",
   "execution_count": 11,
   "id": "541ae669",
   "metadata": {},
   "outputs": [
    {
     "name": "stdout",
     "output_type": "stream",
     "text": [
      "[1 2 3 4 5]\n",
      "[0.1 0.2 0.3 0.4 0.5]\n"
     ]
    }
   ],
   "source": [
    "a = np.arange(1,6)\n",
    "b = np.linspace(0.1,0.5, num=5)\n",
    "\n",
    "print(a)\n",
    "print(b)"
   ]
  },
  {
   "cell_type": "code",
   "execution_count": 12,
   "id": "cfa09191",
   "metadata": {},
   "outputs": [
    {
     "name": "stdout",
     "output_type": "stream",
     "text": [
      "[2 3 4 5 6]\n"
     ]
    }
   ],
   "source": [
    "# Scalar Addition\n",
    "print(a+1)"
   ]
  },
  {
   "cell_type": "code",
   "execution_count": 13,
   "id": "238447e1",
   "metadata": {},
   "outputs": [
    {
     "name": "stdout",
     "output_type": "stream",
     "text": [
      "[1.1 2.2 3.3 4.4 5.5]\n"
     ]
    }
   ],
   "source": [
    "# Vector Addition\n",
    "print(a+b)"
   ]
  },
  {
   "cell_type": "markdown",
   "id": "a03ccb06",
   "metadata": {},
   "source": [
    "### Exercise 2: Multiplication"
   ]
  },
  {
   "cell_type": "code",
   "execution_count": 14,
   "id": "caf1ce5f",
   "metadata": {},
   "outputs": [
    {
     "name": "stdout",
     "output_type": "stream",
     "text": [
      "[ 2  4  6  8 10] \n",
      "\n",
      "[ 1  4  9 16 25]\n"
     ]
    }
   ],
   "source": [
    "# Scalar Multiplication\n",
    "c = 2 * a\n",
    "print(c, '\\n')\n",
    "\n",
    "# Scalar Power\n",
    "c = a ** 2\n",
    "print(c)"
   ]
  },
  {
   "cell_type": "code",
   "execution_count": 15,
   "id": "05829d76",
   "metadata": {},
   "outputs": [
    {
     "name": "stdout",
     "output_type": "stream",
     "text": [
      "[0.1 0.4 0.9 1.6 2.5] \n",
      "\n",
      "[1.         1.14869835 1.39038917 1.74110113 2.23606798]\n"
     ]
    }
   ],
   "source": [
    "# Vector Multiplication\n",
    "c = a * b\n",
    "print(c, '\\n')\n",
    "\n",
    "# Vector Power\n",
    "c = a ** b\n",
    "print(c)"
   ]
  },
  {
   "cell_type": "code",
   "execution_count": 16,
   "id": "675be60a",
   "metadata": {},
   "outputs": [
    {
     "name": "stdout",
     "output_type": "stream",
     "text": [
      "[[ 1  4  9]\n",
      " [ 4 10 18]\n",
      " [ 7 16 27]]\n"
     ]
    }
   ],
   "source": [
    "# Matrix Multiplication\n",
    "a = np.arange(1,10)\n",
    "a = a.reshape(3,3)\n",
    "\n",
    "b = np.array([1,2,3])\n",
    "\n",
    "c = a * b\n",
    "print(c)"
   ]
  },
  {
   "cell_type": "markdown",
   "id": "9bd6a976",
   "metadata": {},
   "source": [
    "### Exercise 3: Math Functions"
   ]
  },
  {
   "cell_type": "code",
   "execution_count": 17,
   "id": "7b3f64da",
   "metadata": {},
   "outputs": [
    {
     "name": "stdout",
     "output_type": "stream",
     "text": [
      "[ 1.000000e+00  6.123234e-17 -5.000000e-01 -1.000000e+00]\n",
      "[0.00000000e+00 1.00000000e+00 8.66025404e-01 1.22464680e-16]\n"
     ]
    },
    {
     "data": {
      "text/plain": [
       "2.718281828459045"
      ]
     },
     "execution_count": 17,
     "metadata": {},
     "output_type": "execute_result"
    }
   ],
   "source": [
    "# numpy defines PI and e, no need to import math here.\n",
    "a = np.array([0, np.pi/2, 2*np.pi/3, np.pi])\n",
    "\n",
    "b = np.cos(a)\n",
    "c = np.sin(a)\n",
    "\n",
    "print(b)\n",
    "print(c)\n",
    "\n",
    "np.e"
   ]
  },
  {
   "cell_type": "markdown",
   "id": "8301d98f",
   "metadata": {},
   "source": [
    "### Exercise 4: In-place Operations"
   ]
  },
  {
   "cell_type": "markdown",
   "id": "0131bd33",
   "metadata": {},
   "source": [
    "It is possible to use the +=, -=, *=, /= operators on numpy arrays."
   ]
  },
  {
   "cell_type": "code",
   "execution_count": 18,
   "id": "c667be87",
   "metadata": {},
   "outputs": [
    {
     "name": "stdout",
     "output_type": "stream",
     "text": [
      "Addition: [3 4 5 6 7]\n",
      "Subtraction: [1 2 3 4 5]\n",
      "Multiplication: [ 2  4  6  8 10]\n",
      "Integer Division: [1 2 3 4 5]\n",
      "Float Division: [0.e+000 5.e-324 1.e-323 1.e-323 1.e-323]\n"
     ]
    }
   ],
   "source": [
    "a = np.arange(1,6)\n",
    "\n",
    "a += 2\n",
    "print('Addition:', a)\n",
    "a -= 2\n",
    "print('Subtraction:', a)\n",
    "a *= 2\n",
    "print('Multiplication:', a)\n",
    "\n",
    "a //= 2\n",
    "print('Integer Division:', a)\n",
    "\n",
    "a.dtype = float\n",
    "a /= 2\n",
    "print('Float Division:', a)"
   ]
  },
  {
   "cell_type": "markdown",
   "id": "a1d95d23",
   "metadata": {},
   "source": [
    "**It is also possible to use in-place operators inside functions:**"
   ]
  },
  {
   "cell_type": "code",
   "execution_count": 19,
   "id": "bbae25f1",
   "metadata": {},
   "outputs": [
    {
     "name": "stdout",
     "output_type": "stream",
     "text": [
      "[ 6  7  8  9 10]\n"
     ]
    }
   ],
   "source": [
    "def add_5(array):\n",
    "    array += 5\n",
    "    return array\n",
    "\n",
    "a = add_5(np.arange(1,6))\n",
    "print(a)"
   ]
  },
  {
   "cell_type": "markdown",
   "id": "e77c0af7",
   "metadata": {},
   "source": [
    "## Set and Fill Array Elements"
   ]
  },
  {
   "cell_type": "markdown",
   "id": "f405c4ba",
   "metadata": {},
   "source": [
    "### Setting Values"
   ]
  },
  {
   "cell_type": "code",
   "execution_count": 20,
   "id": "a86c7843",
   "metadata": {},
   "outputs": [
    {
     "name": "stdout",
     "output_type": "stream",
     "text": [
      "[0.         1.33333333 1.66666667 2.35      ]\n"
     ]
    }
   ],
   "source": [
    "a = np.linspace(1,2, num=4)\n",
    "\n",
    "a[0] = 0\n",
    "a[3] = 2.35\n",
    "\n",
    "print(a)"
   ]
  },
  {
   "cell_type": "markdown",
   "id": "f06206c9",
   "metadata": {},
   "source": [
    "### Filling"
   ]
  },
  {
   "cell_type": "markdown",
   "id": "bb6b261a",
   "metadata": {},
   "source": [
    "### Exercise 1: Scalar Fill"
   ]
  },
  {
   "cell_type": "code",
   "execution_count": 21,
   "id": "1aaec24d",
   "metadata": {},
   "outputs": [
    {
     "name": "stdout",
     "output_type": "stream",
     "text": [
      "[[0. 0. 0.]\n",
      " [0. 0. 0.]\n",
      " [0. 0. 0.]] \n",
      "\n",
      "[0.1234 0.1234 0.1234]\n"
     ]
    }
   ],
   "source": [
    "# Fill with any scalar value\n",
    "a = np.empty([3,3])\n",
    "a.fill(0)\n",
    "\n",
    "b = np.empty(3)\n",
    "b.fill(0.1234)\n",
    "\n",
    "print(a, '\\n')\n",
    "print(b)"
   ]
  },
  {
   "cell_type": "markdown",
   "id": "f3c1c0dd",
   "metadata": {},
   "source": [
    "#### Exercise 2: Other Fills"
   ]
  },
  {
   "cell_type": "code",
   "execution_count": 22,
   "id": "230e4a20",
   "metadata": {},
   "outputs": [
    {
     "name": "stdout",
     "output_type": "stream",
     "text": [
      "[0. 0. 0.]\n",
      "\n",
      "[[1. 1.]\n",
      " [1. 1.]\n",
      " [1. 1.]\n",
      " [1. 1.]]\n",
      "\n",
      "[[1. 0. 0. 0. 0.]\n",
      " [0. 1. 0. 0. 0.]\n",
      " [0. 0. 1. 0. 0.]\n",
      " [0. 0. 0. 1. 0.]\n",
      " [0. 0. 0. 0. 1.]]\n",
      "\n",
      "[[[0. 0. 0.]\n",
      "  [0. 0. 0.]]\n",
      "\n",
      " [[0. 0. 0.]\n",
      "  [0. 0. 0.]]\n",
      "\n",
      " [[0. 0. 0.]\n",
      "  [0. 0. 0.]]]\n"
     ]
    }
   ],
   "source": [
    "# Fill with Zeros\n",
    "a = np.zeros(3)\n",
    "\n",
    "# Fill with Ones\n",
    "b = np.ones([4,2]) # use a tuple for nxn or nxm dimensions\n",
    "\n",
    "# Identity Matrix\n",
    "c = np.identity(5)\n",
    "\n",
    "print(a, b, c, sep='\\n\\n', end='\\n\\n')\n",
    "\n",
    "# Multi-Dimensional\n",
    "a = np.zeros([3,2,3]) # create an array of three 2x3 arrays filled with zeros.\n",
    "print(a)"
   ]
  },
  {
   "cell_type": "markdown",
   "id": "40ec83b9",
   "metadata": {},
   "source": [
    "## Slicing and Indexing"
   ]
  },
  {
   "cell_type": "markdown",
   "id": "a90dd9d6",
   "metadata": {},
   "source": [
    "### Exercise 1: Slicing"
   ]
  },
  {
   "cell_type": "code",
   "execution_count": 23,
   "id": "6bf9a4cb",
   "metadata": {},
   "outputs": [
    {
     "name": "stdout",
     "output_type": "stream",
     "text": [
      "[8. 8. 2. 2.] \n",
      "\n",
      "[ 8. 11. 12. 13.]\n"
     ]
    }
   ],
   "source": [
    "# array[lower:upper:steps], steps optional, inclusive of lower bound only.\n",
    "\n",
    "a = np.empty(4)\n",
    "a.fill(2)\n",
    "\n",
    "# fill by slicing\n",
    "a[0:2] = 8\n",
    "print(a, '\\n')\n",
    "\n",
    "# assigning values by slicing\n",
    "a[1:4] = 11, 12, 13\n",
    "print(a)"
   ]
  },
  {
   "cell_type": "markdown",
   "id": "ac00cdea",
   "metadata": {},
   "source": [
    "### Exercise 2: Slicing with Steps"
   ]
  },
  {
   "cell_type": "code",
   "execution_count": 24,
   "id": "68b461cc",
   "metadata": {},
   "outputs": [
    {
     "name": "stdout",
     "output_type": "stream",
     "text": [
      "[ 8.  5. 12.  5.] \n",
      "\n",
      "[ 8.  6. 12.  3.]\n"
     ]
    }
   ],
   "source": [
    "#fill with steps and slicing\n",
    "a[1:4:2] = 5\n",
    "print(a, '\\n')\n",
    "\n",
    "\n",
    "# slicing with steps and alternating values\n",
    "a[1:4:2] = 6, 3\n",
    "print(a)"
   ]
  },
  {
   "cell_type": "markdown",
   "id": "e04bb7ec",
   "metadata": {},
   "source": [
    "### Exercise 3: Negative Indices"
   ]
  },
  {
   "cell_type": "code",
   "execution_count": 25,
   "id": "5d7fba4e",
   "metadata": {},
   "outputs": [
    {
     "name": "stdout",
     "output_type": "stream",
     "text": [
      "[ 6. 12.]\n"
     ]
    }
   ],
   "source": [
    "# negative values\n",
    "# -1 is the last value in the array, counts down to the left\n",
    "# upper bound (-1) is not inclusive.\n",
    "\n",
    "print(a[-3:-1])\n"
   ]
  },
  {
   "cell_type": "markdown",
   "id": "f7c2e446",
   "metadata": {},
   "source": [
    "### Exercise 4: Omitting Indices"
   ]
  },
  {
   "cell_type": "code",
   "execution_count": null,
   "id": "de22a848",
   "metadata": {},
   "outputs": [],
   "source": []
  },
  {
   "cell_type": "code",
   "execution_count": 26,
   "id": "cdeb78d0",
   "metadata": {},
   "outputs": [
    {
     "name": "stdout",
     "output_type": "stream",
     "text": [
      "[8. 6.]\n",
      "[12.  3.]\n",
      "[12.  3.]\n",
      "[ 1.  1. 12.  3.]\n"
     ]
    }
   ],
   "source": [
    "# print from beginning up to and excluding the 2nd index.\n",
    "print(a[:2])\n",
    "\n",
    "# print from 2nd index to the end, excluding last value.\n",
    "print(a[2:])\n",
    "\n",
    "# print from -2 to 0, excluding 0.\n",
    "print(a[-2:])\n",
    "\n",
    "# fill by omitting indices\n",
    "a[:2] = 1\n",
    "print(a)"
   ]
  },
  {
   "cell_type": "markdown",
   "id": "ec2c39ec",
   "metadata": {},
   "source": [
    "### Exercise 5: Slices as References"
   ]
  },
  {
   "cell_type": "code",
   "execution_count": 27,
   "id": "fc115e0c",
   "metadata": {},
   "outputs": [
    {
     "name": "stdout",
     "output_type": "stream",
     "text": [
      "[0 1 2 3 4 5]\n",
      "\n",
      "[2 3 4]\n",
      "\n",
      "\n",
      "\n",
      "[ 0  1 16  3  4  5]\n",
      "\n",
      "[16  3  4]\n"
     ]
    }
   ],
   "source": [
    "# can assign a slice of an array to another variable\n",
    "a = np.arange(0,6)\n",
    "b = a[2:5]\n",
    "print(a,b,sep='\\n\\n')\n",
    "print('\\n\\n')\n",
    "\n",
    "# if any component of a sliced variable changes, the parent changes too\n",
    "b[0] = 16\n",
    "print(a,b,sep='\\n\\n')\n",
    "\n",
    "# can be done with multi-dimensional arrays as well."
   ]
  },
  {
   "cell_type": "markdown",
   "id": "830d6a56",
   "metadata": {},
   "source": [
    "### Exercise 6: 2-D Indexing"
   ]
  },
  {
   "cell_type": "code",
   "execution_count": 28,
   "id": "921fe584",
   "metadata": {},
   "outputs": [
    {
     "name": "stdout",
     "output_type": "stream",
     "text": [
      "[[ 0.  0. 23.]\n",
      " [ 0.  5.  0.]] \n",
      "\n",
      "\n",
      "[[ 0.  0. 23.]\n",
      " [18. 18. 18.]]\n"
     ]
    }
   ],
   "source": [
    "b = np.zeros(6)\n",
    "b = b.reshape(2,3)\n",
    "\n",
    "# addressing a single value in a 2-D array\n",
    "b[0,2] = 23\n",
    "b[1,1] = 5\n",
    "print(b,'\\n\\n')\n",
    "\n",
    "# addressing a row using a single index\n",
    "b[1] = 18\n",
    "print(b)\n"
   ]
  },
  {
   "cell_type": "markdown",
   "id": "2040f5fb",
   "metadata": {},
   "source": [
    "### Exercise 7: Multidimensional Slicing"
   ]
  },
  {
   "cell_type": "code",
   "execution_count": 29,
   "id": "821b39de",
   "metadata": {},
   "outputs": [],
   "source": [
    "# create an array from mulitple arrays\n",
    "\n",
    "\n",
    "# addressing a column\n",
    "\n",
    "\n",
    "# addressing with steps"
   ]
  },
  {
   "cell_type": "markdown",
   "id": "56d866fc",
   "metadata": {},
   "source": [
    "## Advanced Indexing"
   ]
  },
  {
   "cell_type": "markdown",
   "id": "979b34e3",
   "metadata": {},
   "source": [
    "### Exercise 1: Use Another Array for Index Addressing"
   ]
  },
  {
   "cell_type": "code",
   "execution_count": null,
   "id": "4b927e73",
   "metadata": {},
   "outputs": [],
   "source": []
  },
  {
   "cell_type": "markdown",
   "id": "6b58be7d",
   "metadata": {},
   "source": [
    "### Exercise 2: Index with Booleans"
   ]
  },
  {
   "cell_type": "code",
   "execution_count": null,
   "id": "a2089387",
   "metadata": {},
   "outputs": [],
   "source": []
  },
  {
   "cell_type": "markdown",
   "id": "3f716c7d",
   "metadata": {},
   "source": [
    "### Exercise 3: Use Conditionals to Mask Elements in Array"
   ]
  },
  {
   "cell_type": "code",
   "execution_count": null,
   "id": "5a643179",
   "metadata": {},
   "outputs": [],
   "source": []
  },
  {
   "cell_type": "markdown",
   "id": "c4618898",
   "metadata": {},
   "source": [
    "## Reshaping Arrays"
   ]
  },
  {
   "cell_type": "markdown",
   "id": "19386198",
   "metadata": {},
   "source": [
    "### Exercise 1: Reshaping"
   ]
  },
  {
   "cell_type": "code",
   "execution_count": null,
   "id": "091352bb",
   "metadata": {},
   "outputs": [],
   "source": []
  },
  {
   "cell_type": "code",
   "execution_count": null,
   "id": "4c4cbb21",
   "metadata": {},
   "outputs": [],
   "source": []
  }
 ],
 "metadata": {
  "kernelspec": {
   "display_name": "Python 3 (ipykernel)",
   "language": "python",
   "name": "python3"
  },
  "language_info": {
   "codemirror_mode": {
    "name": "ipython",
    "version": 3
   },
   "file_extension": ".py",
   "mimetype": "text/x-python",
   "name": "python",
   "nbconvert_exporter": "python",
   "pygments_lexer": "ipython3",
   "version": "3.9.12"
  }
 },
 "nbformat": 4,
 "nbformat_minor": 5
}
